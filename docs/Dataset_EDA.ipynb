{
 "cells": [
  {
   "metadata": {},
   "cell_type": "markdown",
   "source": [
    "# Dataset\n",
    "https://dbcollection.readthedocs.io/en/latest/datasets/leeds_sports_pose_extended.html\n",
    "\"\"\"\n",
    "# Dataset Structure\n",
    "//\n",
    "├── train\n",
    "\n",
    "│   ├── image_filenames   # dtype=np.uint8, shape=(11000,104)  (note: string in ASCII format)\n",
    "\n",
    "│   ├── keypoint_names    # dtype=np.uint8, shape=(14,15)    (note: string in ASCII format)\n",
    "\n",
    "│   ├── keypoints         # dtype=np.float, shape=(11000,14,3)\n",
    "\n",
    "│   ├── object_fields     # dtype=np.uint8, shape=(2,16)     (note: string in ASCII format)\n",
    "\n",
    "│   └── object_ids        # dtype=np.int32, shape=(11000,2)\n",
    "\n",
    "│\n",
    "\n",
    "└── test\n",
    "\n",
    "    ├── image_filenames   # dtype=np.uint8, shape=(1000,104)  (note: string in ASCII format)\n",
    "\n",
    "    ├── keypoint_names    # dtype=np.uint8, shape=(14,15)    (note: string in ASCII format)\n",
    "\n",
    "    ├── keypoints         # dtype=np.float, shape=(1000,14,3)\n",
    "\n",
    "    ├── object_fields     # dtype=np.uint8, shape=(2,16)     (note: string in ASCII format)\n",
    "\n",
    "    └── object_ids        # dtype=np.int32, shape=(1000,2)\n",
    "\n",
    "\n",
    "    \n"
   ],
   "id": "68ef307c4954f99"
  },
  {
   "metadata": {},
   "cell_type": "code",
   "outputs": [],
   "execution_count": null,
   "source": "\n",
   "id": "115f6f46f0c7309c"
  }
 ],
 "metadata": {
  "kernelspec": {
   "display_name": "Python 3",
   "language": "python",
   "name": "python3"
  },
  "language_info": {
   "codemirror_mode": {
    "name": "ipython",
    "version": 2
   },
   "file_extension": ".py",
   "mimetype": "text/x-python",
   "name": "python",
   "nbconvert_exporter": "python",
   "pygments_lexer": "ipython2",
   "version": "2.7.6"
  }
 },
 "nbformat": 4,
 "nbformat_minor": 5
}
