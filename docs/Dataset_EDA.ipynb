{
 "cells": [
  {
   "metadata": {},
   "cell_type": "markdown",
   "source": [
    "# Dataset\n",
    "https://dbcollection.readthedocs.io/en/latest/datasets/leeds_sports_pose_extended.html\n",
    "\"\"\"\n",
    "# Dataset Structure\n",
    "//\n",
    "├── train\n",
    "\n",
    "│   ├── image_filenames   # dtype=np.uint8, shape=(11000,104)  (note: string in ASCII format)\n",
    "\n",
    "│   ├── keypoint_names    # dtype=np.uint8, shape=(14,15)    (note: string in ASCII format)\n",
    "\n",
    "│   ├── keypoints         # dtype=np.float, shape=(11000,14,3)\n",
    "\n",
    "│   ├── object_fields     # dtype=np.uint8, shape=(2,16)     (note: string in ASCII format)\n",
    "\n",
    "│   └── object_ids        # dtype=np.int32, shape=(11000,2)\n",
    "\n",
    "│\n",
    "\n",
    "└── test\n",
    "\n",
    "    ├── image_filenames   # dtype=np.uint8, shape=(1000,104)  (note: string in ASCII format)\n",
    "\n",
    "    ├── keypoint_names    # dtype=np.uint8, shape=(14,15)    (note: string in ASCII format)\n",
    "\n",
    "    ├── keypoints         # dtype=np.float, shape=(1000,14,3)\n",
    "\n",
    "    ├── object_fields     # dtype=np.uint8, shape=(2,16)     (note: string in ASCII format)\n",
    "\n",
    "    └── object_ids        # dtype=np.int32, shape=(1000,2)\n",
    "\n",
    "\n",
    "    \n"
   ],
   "id": "68ef307c4954f99"
  },
  {
   "metadata": {
    "ExecuteTime": {
     "end_time": "2024-12-11T12:58:22.930102Z",
     "start_time": "2024-12-11T12:58:22.199857Z"
    }
   },
   "cell_type": "code",
   "source": [
    "import dbcollection as dbc\n",
    "LSPe  = dbc.load('LSPe')"
   ],
   "id": "115f6f46f0c7309c",
   "outputs": [
    {
     "ename": "ModuleNotFoundError",
     "evalue": "No module named 'dbcollection'",
     "output_type": "error",
     "traceback": [
      "\u001B[1;31m---------------------------------------------------------------------------\u001B[0m",
      "\u001B[1;31mModuleNotFoundError\u001B[0m                       Traceback (most recent call last)",
      "Cell \u001B[1;32mIn[1], line 1\u001B[0m\n\u001B[1;32m----> 1\u001B[0m \u001B[38;5;28;01mimport\u001B[39;00m \u001B[38;5;21;01mdbcollection\u001B[39;00m \u001B[38;5;28;01mas\u001B[39;00m \u001B[38;5;21;01mdbc\u001B[39;00m\n\u001B[0;32m      2\u001B[0m LSPe  \u001B[38;5;241m=\u001B[39m dbc\u001B[38;5;241m.\u001B[39mload(\u001B[38;5;124m'\u001B[39m\u001B[38;5;124mLSPe\u001B[39m\u001B[38;5;124m'\u001B[39m)\n",
      "\u001B[1;31mModuleNotFoundError\u001B[0m: No module named 'dbcollection'"
     ]
    }
   ],
   "execution_count": 1
  },
  {
   "metadata": {},
   "cell_type": "code",
   "outputs": [],
   "execution_count": null,
   "source": "",
   "id": "b42e2c5503dd593b"
  }
 ],
 "metadata": {
  "kernelspec": {
   "display_name": "Python 3",
   "language": "python",
   "name": "python3"
  },
  "language_info": {
   "codemirror_mode": {
    "name": "ipython",
    "version": 2
   },
   "file_extension": ".py",
   "mimetype": "text/x-python",
   "name": "python",
   "nbconvert_exporter": "python",
   "pygments_lexer": "ipython2",
   "version": "2.7.6"
  }
 },
 "nbformat": 4,
 "nbformat_minor": 5
}
