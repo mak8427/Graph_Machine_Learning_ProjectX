{
 "cells": [
  {
   "cell_type": "code",
   "id": "initial_id",
   "metadata": {
    "collapsed": true,
    "ExecuteTime": {
     "end_time": "2025-01-22T17:36:11.012535Z",
     "start_time": "2025-01-22T17:35:22.772983Z"
    }
   },
   "source": [
    "# Import necessary libraries and classes\n",
    "import os\n",
    "from data_prep import HiKDataset\n",
    "from torch.utils.data import DataLoader\n",
    "from imblearn.over_sampling import RandomOverSampler\n",
    "import numpy as np\n",
    "from sklearn.preprocessing import LabelEncoder\n",
    "import torch\n",
    "\n",
    "# Load the dataset\n",
    "dataset_A = HiKDataset(\n",
    "    dataset=\"A\",\n",
    "    data_location=\"data\",\n",
    "    sample_length=30,\n",
    "    step_size=30,\n",
    "    downsample_rate=6\n",
    ")\n",
    "dataset_B = HiKDataset(\n",
    "    dataset=\"B\",\n",
    "    data_location=\"data\",\n",
    "    sample_length=30,\n",
    "    step_size=30,\n",
    "    downsample_rate=6\n",
    ")\n",
    "\n",
    "datasets= [dataset_A,dataset_B]\n",
    "# Extract poses and labels\n",
    "poses = []\n",
    "labels = []\n",
    "for dataset in datasets:\n",
    "    for data in dataset:\n",
    "        poses.append(data[\"poses\"].numpy())\n",
    "        labels.append(data[\"activity_label\"].numpy())\n",
    "\n",
    "poses = np.array(poses)\n",
    "labels = np.array(labels)\n",
    "\n"
   ],
   "outputs": [
    {
     "name": "stderr",
     "output_type": "stream",
     "text": [
      "100%|██████████| 319/319 [00:05<00:00, 58.37it/s]\n",
      "100%|██████████| 319/319 [00:04<00:00, 76.38it/s]\n"
     ]
    }
   ],
   "execution_count": 1
  },
  {
   "metadata": {
    "ExecuteTime": {
     "end_time": "2025-01-22T17:36:15.288123Z",
     "start_time": "2025-01-22T17:36:11.070471Z"
    }
   },
   "cell_type": "code",
   "source": [
    "# Convert one-hot encoded labels to single class labels\n",
    "labels_single_class = np.argmax(labels, axis=1)\n",
    "\n",
    "# Print shape after conversion\n",
    "print(f\"Labels single class shape: {labels_single_class.shape}\")\n",
    "\n",
    "# Encode labels to ensure they are in a supported format\n",
    "label_encoder = LabelEncoder()\n",
    "labels_encoded = label_encoder.fit_transform(labels_single_class)\n",
    "\n",
    "# Print shape after encoding\n",
    "print(f\"Labels encoded shape: {labels_encoded.shape}\")\n",
    "\n",
    "# Ensure that the labels and poses are correctly aligned\n",
    "assert len(poses) == len(labels_encoded), \"Poses and labels must be of the same length\"\n",
    "\n",
    "# Reshape poses to 2D for oversampling\n",
    "n_samples, n_frames, n_xyz, n_joints = poses.shape\n",
    "poses_reshaped = poses.reshape(n_samples, -1)\n",
    "\n",
    "# Perform oversampling to balance the classes\n",
    "ros = RandomOverSampler()\n",
    "poses_resampled, labels_resampled = ros.fit_resample(poses_reshaped, labels_encoded)\n",
    "\n",
    "# Reshape poses back to original shape\n",
    "poses_resampled = poses_resampled.reshape(-1, n_frames, n_xyz, n_joints)\n",
    "\n",
    "# Create a balanced dataset\n",
    "class BalancedHiKDataset(HiKDataset):\n",
    "    def __init__(self, poses, labels):\n",
    "        self.poses = poses\n",
    "        self.labels = labels\n",
    "\n",
    "    def __len__(self):\n",
    "        return len(self.poses)\n",
    "\n",
    "    def __getitem__(self, idx):\n",
    "        return {\n",
    "            \"poses\": torch.tensor(self.poses[idx], dtype=torch.float32),\n",
    "            \"activity_label\": torch.tensor(self.labels[idx], dtype=torch.float32)\n",
    "        }\n",
    "\n",
    "balanced_dataset = BalancedHiKDataset(poses_resampled, labels_resampled)\n",
    "\n",
    "# Create a DataLoader for the balanced dataset\n",
    "balanced_dataloader = DataLoader(balanced_dataset, batch_size=32, shuffle=True)\n",
    "\n",
    "# Now you can use balanced_dataloader for training your model"
   ],
   "id": "e0e4ea17710f8869",
   "outputs": [
    {
     "name": "stdout",
     "output_type": "stream",
     "text": [
      "Labels single class shape: (56447,)\n",
      "Labels encoded shape: (56447,)\n"
     ]
    }
   ],
   "execution_count": 2
  },
  {
   "metadata": {
    "ExecuteTime": {
     "end_time": "2025-01-22T17:37:29.207824Z",
     "start_time": "2025-01-22T17:37:29.090052Z"
    }
   },
   "cell_type": "code",
   "source": [
    "import matplotlib.pyplot as plt\n",
    "\n",
    "# Function to plot class distribution\n",
    "def plot_class_distribution(labels, title):\n",
    "    unique, counts = np.unique(labels, return_counts=True)\n",
    "    plt.figure(figsize=(10, 5))\n",
    "    plt.bar(unique, counts)\n",
    "    plt.xlabel('Class')\n",
    "    plt.ylabel('Count')\n",
    "    plt.title(title)\n",
    "    plt.show()\n",
    "    i=0\n",
    "    for lable in unique:\n",
    "        print(f\"Class {lable} has {counts[i]} samples\")\n",
    "        i+=1\n",
    "\n",
    "\n",
    "\n",
    "# Plot class distribution before oversampling\n",
    "plot_class_distribution(labels_single_class, 'Class Distribution Before Oversampling')"
   ],
   "id": "20a9ef87ef953266",
   "outputs": [
    {
     "data": {
      "text/plain": [
       "<Figure size 1000x500 with 1 Axes>"
      ],
      "image/png": "[encoded data removed]"
     },
     "metadata": {},
     "output_type": "display_data"
    },
    {
     "name": "stdout",
     "output_type": "stream",
     "text": [
      "Class 0 has 36 samples\n",
      "Class 1 has 10185 samples\n",
      "Class 2 has 5699 samples\n",
      "Class 3 has 302 samples\n",
      "Class 4 has 2544 samples\n",
      "Class 5 has 23 samples\n",
      "Class 6 has 3 samples\n",
      "Class 7 has 246 samples\n",
      "Class 8 has 87 samples\n",
      "Class 9 has 39 samples\n",
      "Class 10 has 33 samples\n",
      "Class 11 has 53 samples\n",
      "Class 12 has 3 samples\n",
      "Class 13 has 161 samples\n",
      "Class 15 has 6 samples\n",
      "Class 16 has 290 samples\n",
      "Class 17 has 32 samples\n",
      "Class 20 has 104 samples\n",
      "Class 21 has 5 samples\n",
      "Class 23 has 33 samples\n",
      "Class 24 has 39 samples\n",
      "Class 25 has 92 samples\n",
      "Class 27 has 20 samples\n",
      "Class 28 has 5 samples\n",
      "Class 29 has 1612 samples\n",
      "Class 30 has 406 samples\n",
      "Class 32 has 1084 samples\n",
      "Class 33 has 2 samples\n",
      "Class 34 has 81 samples\n",
      "Class 35 has 3 samples\n",
      "Class 36 has 26 samples\n",
      "Class 37 has 24 samples\n",
      "Class 39 has 73 samples\n",
      "Class 40 has 75 samples\n",
      "Class 41 has 59 samples\n",
      "Class 42 has 29 samples\n",
      "Class 44 has 69 samples\n",
      "Class 45 has 2 samples\n",
      "Class 46 has 4 samples\n",
      "Class 47 has 27 samples\n",
      "Class 48 has 39 samples\n",
      "Class 51 has 9 samples\n",
      "Class 52 has 4 samples\n",
      "Class 53 has 3 samples\n",
      "Class 54 has 15 samples\n",
      "Class 55 has 32 samples\n",
      "Class 56 has 2053 samples\n",
      "Class 57 has 3 samples\n",
      "Class 58 has 11683 samples\n",
      "Class 59 has 85 samples\n",
      "Class 60 has 11 samples\n",
      "Class 61 has 15709 samples\n",
      "Class 62 has 100 samples\n",
      "Class 64 has 23 samples\n",
      "Class 65 has 1083 samples\n",
      "Class 66 has 1 samples\n",
      "Class 68 has 4 samples\n",
      "Class 69 has 4 samples\n",
      "Class 70 has 11 samples\n",
      "Class 71 has 16 samples\n",
      "Class 73 has 16 samples\n",
      "Class 75 has 1 samples\n",
      "Class 76 has 152 samples\n",
      "Class 77 has 7 samples\n",
      "Class 79 has 63 samples\n",
      "Class 80 has 1704 samples\n"
     ]
    }
   ],
   "execution_count": 4
  },
  {
   "metadata": {
    "ExecuteTime": {
     "end_time": "2025-01-22T13:33:42.485697Z",
     "start_time": "2025-01-22T13:33:42.471165Z"
    }
   },
   "cell_type": "code",
   "source": "",
   "id": "dcfd0a7df381c5fc",
   "outputs": [
    {
     "ename": "NameError",
     "evalue": "name 'counts' is not defined",
     "output_type": "error",
     "traceback": [
      "\u001B[0;31m---------------------------------------------------------------------------\u001B[0m",
      "\u001B[0;31mNameError\u001B[0m                                 Traceback (most recent call last)",
      "Cell \u001B[0;32mIn[9], line 1\u001B[0m\n\u001B[0;32m----> 1\u001B[0m \u001B[38;5;28mprint\u001B[39m(\u001B[43mcounts\u001B[49m)\n",
      "\u001B[0;31mNameError\u001B[0m: name 'counts' is not defined"
     ]
    }
   ],
   "execution_count": 9
  },
  {
   "metadata": {
    "ExecuteTime": {
     "end_time": "2025-01-22T13:28:57.718542Z",
     "start_time": "2025-01-22T13:28:57.704815Z"
    }
   },
   "cell_type": "code",
   "source": [
    "# Plot class distribution after oversampling\n",
    "plot_class_distribution(labels_resampled, 'Class Distribution After Oversampling')"
   ],
   "id": "53f658e7eeef98b9",
   "outputs": [
    {
     "ename": "NameError",
     "evalue": "name 'plot_class_distribution' is not defined",
     "output_type": "error",
     "traceback": [
      "\u001B[0;31m---------------------------------------------------------------------------\u001B[0m",
      "\u001B[0;31mNameError\u001B[0m                                 Traceback (most recent call last)",
      "Cell \u001B[0;32mIn[3], line 2\u001B[0m\n\u001B[1;32m      1\u001B[0m \u001B[38;5;66;03m# Plot class distribution after oversampling\u001B[39;00m\n\u001B[0;32m----> 2\u001B[0m \u001B[43mplot_class_distribution\u001B[49m(labels_resampled, \u001B[38;5;124m'\u001B[39m\u001B[38;5;124mClass Distribution After Oversampling\u001B[39m\u001B[38;5;124m'\u001B[39m)\n",
      "\u001B[0;31mNameError\u001B[0m: name 'plot_class_distribution' is not defined"
     ]
    }
   ],
   "execution_count": 3
  },
  {
   "metadata": {
    "ExecuteTime": {
     "end_time": "2025-01-22T11:00:58.963560Z",
     "start_time": "2025-01-22T11:00:57.961266Z"
    }
   },
   "cell_type": "code",
   "source": [
    "import numpy as np\n",
    "from collections import Counter\n",
    "\n",
    "# Function to add noise to poses\n",
    "def add_noise(poses, noise_level=0.01):\n",
    "    noise = np.random.normal(0, noise_level, poses.shape)\n",
    "    return poses + noise\n",
    "\n",
    "# Identify classes that have more than 3000 samples\n",
    "class_counts = Counter(labels_resampled)\n",
    "oversampled_classes = [cls for cls, count in class_counts.items() if count > 3000]\n",
    "\n",
    "# Add noise to oversampled classes and fix count to 3000\n",
    "new_poses = []\n",
    "new_labels = []\n",
    "\n",
    "for cls in oversampled_classes:\n",
    "    cls_indices = np.where(labels_resampled == cls)[0]\n",
    "    np.random.shuffle(cls_indices)\n",
    "    cls_indices = cls_indices[:3000]  # Fix count to 3000\n",
    "    cls_poses = poses_resampled[cls_indices]\n",
    "    cls_poses_noisy = add_noise(cls_poses)\n",
    "    new_poses.append(cls_poses_noisy)\n",
    "    new_labels.extend([cls] * 3000)\n",
    "\n",
    "# Add the remaining classes without modification\n",
    "for cls in set(labels_resampled) - set(oversampled_classes):\n",
    "    cls_indices = np.where(labels_resampled == cls)[0]\n",
    "    cls_poses = poses_resampled[cls_indices]\n",
    "    new_poses.append(cls_poses)\n",
    "    new_labels.extend([cls] * len(cls_indices))\n",
    "\n",
    "# Convert lists to numpy arrays\n",
    "new_poses = np.vstack(new_poses)\n",
    "new_labels = np.array(new_labels)\n",
    "\n",
    "# Create a balanced dataset\n",
    "balanced_dataset = BalancedHiKDataset(new_poses, new_labels)\n",
    "\n",
    "# Create a DataLoader for the balanced dataset\n",
    "balanced_dataloader = DataLoader(balanced_dataset, batch_size=32, shuffle=True)\n",
    "\n",
    "# Now you can use balanced_dataloader for training your model"
   ],
   "id": "69b5cdfe748e6260",
   "outputs": [],
   "execution_count": 5
  },
  {
   "metadata": {
    "ExecuteTime": {
     "end_time": "2025-01-22T11:01:00.057875Z",
     "start_time": "2025-01-22T11:00:58.993526Z"
    }
   },
   "cell_type": "code",
   "source": [
    "import numpy as np\n",
    "import matplotlib.pyplot as plt\n",
    "from collections import defaultdict\n",
    "\n",
    "# Function to calculate variance for each joint coordinate across joints with the same ID\n",
    "def calculate_joint_variance(poses):\n",
    "    joint_variances = np.var(poses, axis=0)  # Variance across poses\n",
    "    return joint_variances\n",
    "\n",
    "# Function to calculate mean variance for each class\n",
    "def calculate_mean_variance(class_poses):\n",
    "    class_mean_variances = {}\n",
    "    for cls, poses in class_poses.items():\n",
    "        poses = np.array(poses)\n",
    "        joint_variances = calculate_joint_variance(poses)\n",
    "        mean_variance = np.mean(joint_variances, axis=(0, 1))  # Mean variance across all joints and coordinates\n",
    "        class_mean_variances[cls] = mean_variance\n",
    "    return class_mean_variances\n",
    "\n",
    "# Aggregate poses by class\n",
    "class_poses_before = defaultdict(list)\n",
    "class_poses_after = defaultdict(list)\n",
    "for pose, label in zip(poses, labels):\n",
    "    class_poses_before[int(label[0])].append(pose)\n",
    "for pose, label in zip(new_poses, new_labels):\n",
    "    class_poses_after[int(label)].append(pose)\n",
    "\n",
    "# Calculate mean variance for each class before and after noise addition\n",
    "mean_variances_before = calculate_mean_variance(class_poses_before)\n",
    "mean_variances_after = calculate_mean_variance(class_poses_after)\n",
    "\n",
    "# Ensure both lists of classes are the same\n",
    "classes_before = set(mean_variances_before.keys())\n",
    "classes_after = set(mean_variances_after.keys())\n",
    "\n",
    "if classes_before != classes_after:\n",
    "    common_classes = classes_before.intersection(classes_after)\n",
    "    mean_variances_before = {cls: mean_variances_before[cls] for cls in common_classes}\n",
    "    mean_variances_after = {cls: mean_variances_after[cls] for cls in common_classes}\n",
    "\n",
    "# Plot mean variance for comparison\n",
    "def plot_mean_variance(mean_variances_before, mean_variances_after, title):\n",
    "    classes = list(mean_variances_before.keys())\n",
    "    mean_variance_before = [mean_variances_before[cls] for cls in classes]\n",
    "    mean_variance_after = [mean_variances_after[cls] for cls in classes]\n",
    "\n",
    "    x = np.arange(len(classes))\n",
    "    width = 0.35\n",
    "\n",
    "    fig, ax = plt.subplots(figsize=(10, 5))\n",
    "    ax.bar(x - width/2, mean_variance_before, width, label='Before')\n",
    "    ax.bar(x + width/2, mean_variance_after, width, label='After')\n",
    "\n",
    "    ax.set_xlabel('Class')\n",
    "    ax.set_ylabel('Mean Variance')\n",
    "    ax.set_title(title)\n",
    "    ax.set_xticks(x)\n",
    "    ax.set_xticklabels(classes)\n",
    "    ax.legend()\n",
    "\n",
    "    plt.tight_layout()\n",
    "    plt.show()\n",
    "\n",
    "plot_mean_variance(mean_variances_before, mean_variances_after, 'Mean Variance of Joints by Class')"
   ],
   "id": "5da5db40340d94a6",
   "outputs": [
    {
     "ename": "ValueError",
     "evalue": "shape mismatch: objects cannot be broadcast to a single shape",
     "output_type": "error",
     "traceback": [
      "\u001B[0;31m---------------------------------------------------------------------------\u001B[0m",
      "\u001B[0;31mValueError\u001B[0m                                Traceback (most recent call last)",
      "Cell \u001B[0;32mIn[6], line 64\u001B[0m\n\u001B[1;32m     61\u001B[0m     plt\u001B[38;5;241m.\u001B[39mtight_layout()\n\u001B[1;32m     62\u001B[0m     plt\u001B[38;5;241m.\u001B[39mshow()\n\u001B[0;32m---> 64\u001B[0m \u001B[43mplot_mean_variance\u001B[49m\u001B[43m(\u001B[49m\u001B[43mmean_variances_before\u001B[49m\u001B[43m,\u001B[49m\u001B[43m \u001B[49m\u001B[43mmean_variances_after\u001B[49m\u001B[43m,\u001B[49m\u001B[43m \u001B[49m\u001B[38;5;124;43m'\u001B[39;49m\u001B[38;5;124;43mMean Variance of Joints by Class\u001B[39;49m\u001B[38;5;124;43m'\u001B[39;49m\u001B[43m)\u001B[49m\n",
      "Cell \u001B[0;32mIn[6], line 51\u001B[0m, in \u001B[0;36mplot_mean_variance\u001B[0;34m(mean_variances_before, mean_variances_after, title)\u001B[0m\n\u001B[1;32m     48\u001B[0m width \u001B[38;5;241m=\u001B[39m \u001B[38;5;241m0.35\u001B[39m\n\u001B[1;32m     50\u001B[0m fig, ax \u001B[38;5;241m=\u001B[39m plt\u001B[38;5;241m.\u001B[39msubplots(figsize\u001B[38;5;241m=\u001B[39m(\u001B[38;5;241m10\u001B[39m, \u001B[38;5;241m5\u001B[39m))\n\u001B[0;32m---> 51\u001B[0m \u001B[43max\u001B[49m\u001B[38;5;241;43m.\u001B[39;49m\u001B[43mbar\u001B[49m\u001B[43m(\u001B[49m\u001B[43mx\u001B[49m\u001B[43m \u001B[49m\u001B[38;5;241;43m-\u001B[39;49m\u001B[43m \u001B[49m\u001B[43mwidth\u001B[49m\u001B[38;5;241;43m/\u001B[39;49m\u001B[38;5;241;43m2\u001B[39;49m\u001B[43m,\u001B[49m\u001B[43m \u001B[49m\u001B[43mmean_variance_before\u001B[49m\u001B[43m,\u001B[49m\u001B[43m \u001B[49m\u001B[43mwidth\u001B[49m\u001B[43m,\u001B[49m\u001B[43m \u001B[49m\u001B[43mlabel\u001B[49m\u001B[38;5;241;43m=\u001B[39;49m\u001B[38;5;124;43m'\u001B[39;49m\u001B[38;5;124;43mBefore\u001B[39;49m\u001B[38;5;124;43m'\u001B[39;49m\u001B[43m)\u001B[49m\n\u001B[1;32m     52\u001B[0m ax\u001B[38;5;241m.\u001B[39mbar(x \u001B[38;5;241m+\u001B[39m width\u001B[38;5;241m/\u001B[39m\u001B[38;5;241m2\u001B[39m, mean_variance_after, width, label\u001B[38;5;241m=\u001B[39m\u001B[38;5;124m'\u001B[39m\u001B[38;5;124mAfter\u001B[39m\u001B[38;5;124m'\u001B[39m)\n\u001B[1;32m     54\u001B[0m ax\u001B[38;5;241m.\u001B[39mset_xlabel(\u001B[38;5;124m'\u001B[39m\u001B[38;5;124mClass\u001B[39m\u001B[38;5;124m'\u001B[39m)\n",
      "File \u001B[0;32m~/.conda/envs/All/lib/python3.8/site-packages/matplotlib/__init__.py:1446\u001B[0m, in \u001B[0;36m_preprocess_data.<locals>.inner\u001B[0;34m(ax, data, *args, **kwargs)\u001B[0m\n\u001B[1;32m   1443\u001B[0m \u001B[38;5;129m@functools\u001B[39m\u001B[38;5;241m.\u001B[39mwraps(func)\n\u001B[1;32m   1444\u001B[0m \u001B[38;5;28;01mdef\u001B[39;00m \u001B[38;5;21minner\u001B[39m(ax, \u001B[38;5;241m*\u001B[39margs, data\u001B[38;5;241m=\u001B[39m\u001B[38;5;28;01mNone\u001B[39;00m, \u001B[38;5;241m*\u001B[39m\u001B[38;5;241m*\u001B[39mkwargs):\n\u001B[1;32m   1445\u001B[0m     \u001B[38;5;28;01mif\u001B[39;00m data \u001B[38;5;129;01mis\u001B[39;00m \u001B[38;5;28;01mNone\u001B[39;00m:\n\u001B[0;32m-> 1446\u001B[0m         \u001B[38;5;28;01mreturn\u001B[39;00m \u001B[43mfunc\u001B[49m\u001B[43m(\u001B[49m\u001B[43max\u001B[49m\u001B[43m,\u001B[49m\u001B[43m \u001B[49m\u001B[38;5;241;43m*\u001B[39;49m\u001B[38;5;28;43mmap\u001B[39;49m\u001B[43m(\u001B[49m\u001B[43msanitize_sequence\u001B[49m\u001B[43m,\u001B[49m\u001B[43m \u001B[49m\u001B[43margs\u001B[49m\u001B[43m)\u001B[49m\u001B[43m,\u001B[49m\u001B[43m \u001B[49m\u001B[38;5;241;43m*\u001B[39;49m\u001B[38;5;241;43m*\u001B[39;49m\u001B[43mkwargs\u001B[49m\u001B[43m)\u001B[49m\n\u001B[1;32m   1448\u001B[0m     bound \u001B[38;5;241m=\u001B[39m new_sig\u001B[38;5;241m.\u001B[39mbind(ax, \u001B[38;5;241m*\u001B[39margs, \u001B[38;5;241m*\u001B[39m\u001B[38;5;241m*\u001B[39mkwargs)\n\u001B[1;32m   1449\u001B[0m     auto_label \u001B[38;5;241m=\u001B[39m (bound\u001B[38;5;241m.\u001B[39marguments\u001B[38;5;241m.\u001B[39mget(label_namer)\n\u001B[1;32m   1450\u001B[0m                   \u001B[38;5;129;01mor\u001B[39;00m bound\u001B[38;5;241m.\u001B[39mkwargs\u001B[38;5;241m.\u001B[39mget(label_namer))\n",
      "File \u001B[0;32m~/.conda/envs/All/lib/python3.8/site-packages/matplotlib/axes/_axes.py:2409\u001B[0m, in \u001B[0;36mAxes.bar\u001B[0;34m(self, x, height, width, bottom, align, **kwargs)\u001B[0m\n\u001B[1;32m   2406\u001B[0m     \u001B[38;5;28;01mif\u001B[39;00m yerr \u001B[38;5;129;01mis\u001B[39;00m \u001B[38;5;129;01mnot\u001B[39;00m \u001B[38;5;28;01mNone\u001B[39;00m:\n\u001B[1;32m   2407\u001B[0m         yerr \u001B[38;5;241m=\u001B[39m \u001B[38;5;28mself\u001B[39m\u001B[38;5;241m.\u001B[39m_convert_dx(yerr, y0, y, \u001B[38;5;28mself\u001B[39m\u001B[38;5;241m.\u001B[39mconvert_yunits)\n\u001B[0;32m-> 2409\u001B[0m x, height, width, y, linewidth, hatch \u001B[38;5;241m=\u001B[39m \u001B[43mnp\u001B[49m\u001B[38;5;241;43m.\u001B[39;49m\u001B[43mbroadcast_arrays\u001B[49m\u001B[43m(\u001B[49m\n\u001B[1;32m   2410\u001B[0m \u001B[43m    \u001B[49m\u001B[38;5;66;43;03m# Make args iterable too.\u001B[39;49;00m\n\u001B[1;32m   2411\u001B[0m \u001B[43m    \u001B[49m\u001B[43mnp\u001B[49m\u001B[38;5;241;43m.\u001B[39;49m\u001B[43matleast_1d\u001B[49m\u001B[43m(\u001B[49m\u001B[43mx\u001B[49m\u001B[43m)\u001B[49m\u001B[43m,\u001B[49m\u001B[43m \u001B[49m\u001B[43mheight\u001B[49m\u001B[43m,\u001B[49m\u001B[43m \u001B[49m\u001B[43mwidth\u001B[49m\u001B[43m,\u001B[49m\u001B[43m \u001B[49m\u001B[43my\u001B[49m\u001B[43m,\u001B[49m\u001B[43m \u001B[49m\u001B[43mlinewidth\u001B[49m\u001B[43m,\u001B[49m\u001B[43m \u001B[49m\u001B[43mhatch\u001B[49m\u001B[43m)\u001B[49m\n\u001B[1;32m   2413\u001B[0m \u001B[38;5;66;03m# Now that units have been converted, set the tick locations.\u001B[39;00m\n\u001B[1;32m   2414\u001B[0m \u001B[38;5;28;01mif\u001B[39;00m orientation \u001B[38;5;241m==\u001B[39m \u001B[38;5;124m'\u001B[39m\u001B[38;5;124mvertical\u001B[39m\u001B[38;5;124m'\u001B[39m:\n",
      "File \u001B[0;32m<__array_function__ internals>:5\u001B[0m, in \u001B[0;36mbroadcast_arrays\u001B[0;34m(*args, **kwargs)\u001B[0m\n",
      "File \u001B[0;32m~/.conda/envs/All/lib/python3.8/site-packages/numpy/lib/stride_tricks.py:538\u001B[0m, in \u001B[0;36mbroadcast_arrays\u001B[0;34m(subok, *args)\u001B[0m\n\u001B[1;32m    531\u001B[0m \u001B[38;5;66;03m# nditer is not used here to avoid the limit of 32 arrays.\u001B[39;00m\n\u001B[1;32m    532\u001B[0m \u001B[38;5;66;03m# Otherwise, something like the following one-liner would suffice:\u001B[39;00m\n\u001B[1;32m    533\u001B[0m \u001B[38;5;66;03m# return np.nditer(args, flags=['multi_index', 'zerosize_ok'],\u001B[39;00m\n\u001B[1;32m    534\u001B[0m \u001B[38;5;66;03m#                  order='C').itviews\u001B[39;00m\n\u001B[1;32m    536\u001B[0m args \u001B[38;5;241m=\u001B[39m [np\u001B[38;5;241m.\u001B[39marray(_m, copy\u001B[38;5;241m=\u001B[39m\u001B[38;5;28;01mFalse\u001B[39;00m, subok\u001B[38;5;241m=\u001B[39msubok) \u001B[38;5;28;01mfor\u001B[39;00m _m \u001B[38;5;129;01min\u001B[39;00m args]\n\u001B[0;32m--> 538\u001B[0m shape \u001B[38;5;241m=\u001B[39m \u001B[43m_broadcast_shape\u001B[49m\u001B[43m(\u001B[49m\u001B[38;5;241;43m*\u001B[39;49m\u001B[43margs\u001B[49m\u001B[43m)\u001B[49m\n\u001B[1;32m    540\u001B[0m \u001B[38;5;28;01mif\u001B[39;00m \u001B[38;5;28mall\u001B[39m(array\u001B[38;5;241m.\u001B[39mshape \u001B[38;5;241m==\u001B[39m shape \u001B[38;5;28;01mfor\u001B[39;00m array \u001B[38;5;129;01min\u001B[39;00m args):\n\u001B[1;32m    541\u001B[0m     \u001B[38;5;66;03m# Common case where nothing needs to be broadcasted.\u001B[39;00m\n\u001B[1;32m    542\u001B[0m     \u001B[38;5;28;01mreturn\u001B[39;00m args\n",
      "File \u001B[0;32m~/.conda/envs/All/lib/python3.8/site-packages/numpy/lib/stride_tricks.py:420\u001B[0m, in \u001B[0;36m_broadcast_shape\u001B[0;34m(*args)\u001B[0m\n\u001B[1;32m    415\u001B[0m \u001B[38;5;250m\u001B[39m\u001B[38;5;124;03m\"\"\"Returns the shape of the arrays that would result from broadcasting the\u001B[39;00m\n\u001B[1;32m    416\u001B[0m \u001B[38;5;124;03msupplied arrays against each other.\u001B[39;00m\n\u001B[1;32m    417\u001B[0m \u001B[38;5;124;03m\"\"\"\u001B[39;00m\n\u001B[1;32m    418\u001B[0m \u001B[38;5;66;03m# use the old-iterator because np.nditer does not handle size 0 arrays\u001B[39;00m\n\u001B[1;32m    419\u001B[0m \u001B[38;5;66;03m# consistently\u001B[39;00m\n\u001B[0;32m--> 420\u001B[0m b \u001B[38;5;241m=\u001B[39m \u001B[43mnp\u001B[49m\u001B[38;5;241;43m.\u001B[39;49m\u001B[43mbroadcast\u001B[49m\u001B[43m(\u001B[49m\u001B[38;5;241;43m*\u001B[39;49m\u001B[43margs\u001B[49m\u001B[43m[\u001B[49m\u001B[43m:\u001B[49m\u001B[38;5;241;43m32\u001B[39;49m\u001B[43m]\u001B[49m\u001B[43m)\u001B[49m\n\u001B[1;32m    421\u001B[0m \u001B[38;5;66;03m# unfortunately, it cannot handle 32 or more arguments directly\u001B[39;00m\n\u001B[1;32m    422\u001B[0m \u001B[38;5;28;01mfor\u001B[39;00m pos \u001B[38;5;129;01min\u001B[39;00m \u001B[38;5;28mrange\u001B[39m(\u001B[38;5;241m32\u001B[39m, \u001B[38;5;28mlen\u001B[39m(args), \u001B[38;5;241m31\u001B[39m):\n\u001B[1;32m    423\u001B[0m     \u001B[38;5;66;03m# ironically, np.broadcast does not properly handle np.broadcast\u001B[39;00m\n\u001B[1;32m    424\u001B[0m     \u001B[38;5;66;03m# objects (it treats them as scalars)\u001B[39;00m\n\u001B[1;32m    425\u001B[0m     \u001B[38;5;66;03m# use broadcasting to avoid allocating the full array\u001B[39;00m\n",
      "\u001B[0;31mValueError\u001B[0m: shape mismatch: objects cannot be broadcast to a single shape"
     ]
    },
    {
     "data": {
      "text/plain": [
       "<Figure size 1000x500 with 1 Axes>"
      ],
      "image/png": "[encoded data removed]"
     },
     "metadata": {},
     "output_type": "display_data"
    }
   ],
   "execution_count": 6
  },
  {
   "metadata": {
    "ExecuteTime": {
     "end_time": "2025-01-22T11:01:00.060883918Z",
     "start_time": "2025-01-22T10:49:34.517256Z"
    }
   },
   "cell_type": "code",
   "source": "",
   "id": "e596283482599741",
   "outputs": [],
   "execution_count": null
  },
  {
   "metadata": {
    "jupyter": {
     "is_executing": true
    }
   },
   "cell_type": "code",
   "source": "",
   "id": "1f65a79dedc28b52",
   "outputs": [],
   "execution_count": null
  }
 ],
 "metadata": {
  "kernelspec": {
   "display_name": "Python 3",
   "language": "python",
   "name": "python3"
  },
  "language_info": {
   "codemirror_mode": {
    "name": "ipython",
    "version": 2
   },
   "file_extension": ".py",
   "mimetype": "text/x-python",
   "name": "python",
   "nbconvert_exporter": "python",
   "pygments_lexer": "ipython2",
   "version": "2.7.6"
  }
 },
 "nbformat": 4,
 "nbformat_minor": 5
}
