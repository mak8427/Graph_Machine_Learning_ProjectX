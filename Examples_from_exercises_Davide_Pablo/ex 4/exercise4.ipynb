{
 "cells": [
  {
   "cell_type": "markdown",
   "id": "602fec09-a231-4855-bab7-19410340e532",
   "metadata": {},
   "source": [
    "# Exercise 4\n",
    "Due:  Tue November 19, 8:00am"
   ]
  },
  {
   "cell_type": "markdown",
   "id": "027e31e5",
   "metadata": {},
   "source": [
    "## Node2Vec\n",
    "1. Implement custom dataset that samples pq-walks\n",
    "    - Use the utility function from torch_cluster that actually performs the walks\n",
    "2. Implement Node2Vec module and training\n",
    "\t- Node2Vec essentially consists of a torch.Embedding module and a loss function\n",
    "3. Evaluate node classification performance on Cora\n",
    "4. Evaluate on Link Prediction: Cora, PPI\n",
    "    - use different ways to combine the node two embeddings for link prediction\n",
    "\n",
    "Bonus Question: are the predictions stable wrt to the random seeds of the walks?"
   ]
  },
  {
   "cell_type": "code",
   "execution_count": 2,
   "id": "497bd917-87df-4c9c-8d69-7dd0cd90212a",
   "metadata": {},
   "outputs": [],
   "source": [
    "%load_ext autoreload\n",
    "%autoreload 2"
   ]
  },
  {
   "cell_type": "code",
   "execution_count": 3,
   "id": "cac6c9e9-fc1f-4a34-8404-165315a2ebf5",
   "metadata": {},
   "outputs": [],
   "source": [
    "import torch\n",
    "import torch_geometric as pyg\n",
    "from tqdm import tqdm\n",
    "import torch_cluster\n",
    "import sklearn"
   ]
  },
  {
   "cell_type": "code",
   "execution_count": 4,
   "id": "22cff34d-205e-4ebe-a747-a36fa653895a",
   "metadata": {},
   "outputs": [
    {
     "data": {
      "text/plain": [
       "device(type='cuda')"
      ]
     },
     "execution_count": 4,
     "metadata": {},
     "output_type": "execute_result"
    }
   ],
   "source": [
    "# find device\n",
    "if torch.cuda.is_available(): # NVIDIA\n",
    "    device = torch.device('cuda')\n",
    "elif torch.backends.mps.is_available(): # apple M1/M2\n",
    "    device = torch.device('mps') \n",
    "else:\n",
    "    device = torch.device('cpu')\n",
    "device"
   ]
  },
  {
   "cell_type": "code",
   "execution_count": 22,
   "id": "7c275ba2",
   "metadata": {},
   "outputs": [],
   "source": [
    "dataset = pyg.datasets.Planetoid(root='./dataset/cora', name='Cora')\n",
    "cora = dataset[0]\n",
    "dataset = pyg.datasets.PPI(root='./dataset/ppi')\n",
    "ppi = dataset[0]"
   ]
  },
  {
   "cell_type": "code",
   "execution_count": 23,
   "id": "2caa4604-9029-4dad-b418-29ce7bd15415",
   "metadata": {},
   "outputs": [
    {
     "data": {
      "text/plain": [
       "Data(x=[2708, 1433], edge_index=[2, 10556], y=[2708], train_mask=[2708], val_mask=[2708], test_mask=[2708])"
      ]
     },
     "execution_count": 23,
     "metadata": {},
     "output_type": "execute_result"
    }
   ],
   "source": [
    "cora"
   ]
  },
  {
   "cell_type": "code",
   "execution_count": 27,
   "id": "058731be-e535-4c13-92e1-42caff76d19f",
   "metadata": {},
   "outputs": [
    {
     "data": {
      "text/plain": [
       "Data(x=[1767, 50], edge_index=[2, 32318], y=[1767, 121])"
      ]
     },
     "execution_count": 27,
     "metadata": {},
     "output_type": "execute_result"
    }
   ],
   "source": [
    "ppi"
   ]
  },
  {
   "cell_type": "markdown",
   "id": "378d4a84-bda3-484a-87ca-35f95344c594",
   "metadata": {},
   "source": [
    "## node2vec embedding training\n",
    "Here the main training and everything on the graph level is happening.\n",
    "\n",
    "It might be a good idea to create a dataset of walks (fixed for the whole training process) first to get the whole training process running before attempting to create a train_loader that on-demand samples those walks on-demand."
   ]
  },
  {
   "cell_type": "code",
   "execution_count": null,
   "id": "bb739f66-a29d-435a-a2e3-66287f1e4422",
   "metadata": {},
   "outputs": [],
   "source": []
  },
  {
   "cell_type": "code",
   "execution_count": null,
   "id": "81fd688c-009d-4af5-9c16-f3878701235e",
   "metadata": {},
   "outputs": [],
   "source": []
  },
  {
   "cell_type": "code",
   "execution_count": null,
   "id": "0a63e7cf-74d9-4d52-b83a-62d98ee54f29",
   "metadata": {},
   "outputs": [],
   "source": []
  },
  {
   "cell_type": "code",
   "execution_count": null,
   "id": "647bdf1c-6ebb-462e-82a7-8e57703fa5d2",
   "metadata": {},
   "outputs": [],
   "source": []
  },
  {
   "cell_type": "markdown",
   "id": "9bfe71e5-f122-46ff-abdd-7b0fd15d56fc",
   "metadata": {},
   "source": [
    "## Node classification performance\n",
    "just a small MLP or even linear layer on the embeddings to predict node classes. Accuracy should be above 60%. Please compare your results to those you achieved with GNNs."
   ]
  },
  {
   "cell_type": "code",
   "execution_count": null,
   "id": "3ca95d6c-ed3f-49eb-b733-17a9035db399",
   "metadata": {},
   "outputs": [],
   "source": [
    "# as the simple MLP is pretty straightforward\n",
    "model = torch.nn.Sequential(\n",
    "    torch.nn.Linear(embedding_dim, 256), # Input layer\n",
    "    torch.nn.ReLU(),\n",
    "    torch.nn.Linear(256, 128), # Hidden layer 2\n",
    "    torch.nn.ReLU(),\n",
    "    torch.nn.Linear(128, cora_dataset.num_classes), # Output layer\n",
    ")\n",
    "model = model.to(device)\n"
   ]
  },
  {
   "cell_type": "code",
   "execution_count": null,
   "id": "2f648c85-bf32-42f0-94f0-19e052f70325",
   "metadata": {},
   "outputs": [],
   "source": [
    "optimizer = torch.optim.Adam(model.parameters(), lr=0.01)  # define an optimizer\n",
    "criterion = torch.nn.CrossEntropyLoss()  # define loss function\n",
    "\n",
    "node2vec_embeddings = embedding.to(device)\n",
    "cora = cora.to(device)\n",
    "\n",
    "for epoch in range(100):  # 100 epochs\n",
    "    model.train()\n",
    "    optimizer.zero_grad()\n",
    "    out = model(node2vec_embeddings[cora.train_mask])  # forward pass\n",
    "    loss = criterion(out, cora.y[cora.train_mask]) \n",
    "    loss.backward()  \n",
    "    optimizer.step()\n",
    "\n",
    "    # print out loss info\n",
    "    if (epoch + 1) % 10 == 0:\n",
    "        print(f\"Epoch {epoch+1}, Loss: {loss.item():.3e}\")\n",
    "\n",
    "def get_accuracy(model, embeddings, y, mask):\n",
    "    out = model(embeddings[mask])\n",
    "    pred = out.argmax(dim=1)\n",
    "    acc = sklearn.metrics.accuracy_score(y[mask].cpu().numpy(), pred.cpu().detach().numpy())\n",
    "    return acc\n",
    "\n",
    "train_acc = get_accuracy(model, node2vec_embeddings, cora.y, cora.train_mask)\n",
    "val_acc = get_accuracy(model, node2vec_embeddings, cora.y, cora.val_mask)\n",
    "test_acc = get_accuracy(model, node2vec_embeddings, cora.y, cora.test_mask)\n",
    "    \n",
    "print(f\"node classification accuracy for cora: {test_acc:.2f} (train: {train_acc:.2f}, val: {val_acc:.2f})\")"
   ]
  },
  {
   "cell_type": "code",
   "execution_count": null,
   "id": "f7712ab1-4753-4715-abaf-33b666680535",
   "metadata": {},
   "outputs": [],
   "source": []
  },
  {
   "cell_type": "code",
   "execution_count": null,
   "id": "c378a139-b47e-49a1-a65b-90e7a96ca165",
   "metadata": {},
   "outputs": [],
   "source": []
  },
  {
   "cell_type": "markdown",
   "id": "83edad57-6fa5-466a-b3d7-56244a79f410",
   "metadata": {},
   "source": [
    "## link prediction on trained embeddings\n",
    "this should only train simple MLPs.\n",
    "\n",
    "Note: for link prediction to be worthwhile, one needs to train the embeddings on a subset of the graph (less edges, same nodes) instead of the whole graph."
   ]
  },
  {
   "cell_type": "code",
   "execution_count": 32,
   "id": "290ffae9-7872-441a-9e63-385619295400",
   "metadata": {},
   "outputs": [
    {
     "data": {
      "text/plain": [
       "Data(x=[2708, 1433], edge_index=[2, 7392], y=[2708], train_mask=[2708], val_mask=[2708], test_mask=[2708], edge_label=[7392], edge_label_index=[2, 7392])"
      ]
     },
     "execution_count": 32,
     "metadata": {},
     "output_type": "execute_result"
    }
   ],
   "source": [
    "# for link prediction, do something like the following\n",
    "link_splitter = pyg.transforms.RandomLinkSplit(is_undirected=True)\n",
    "train_data, val_data, test_data = link_splitter(cora)\n",
    "train_data\n",
    "# the positive and negative edges are in \"edge_label_index\" with \"edge_label\" \n",
    "# indicating whether an edge is a true edge or not."
   ]
  },
  {
   "cell_type": "code",
   "execution_count": 28,
   "id": "4e295578-2a40-4eba-a580-8cc7502492f5",
   "metadata": {},
   "outputs": [
    {
     "data": {
      "text/plain": [
       "Data(x=[2708, 1433], edge_index=[2, 8446], y=[2708], train_mask=[2708], val_mask=[2708], test_mask=[2708], edge_label=[2110], edge_label_index=[2, 2110])"
      ]
     },
     "execution_count": 28,
     "metadata": {},
     "output_type": "execute_result"
    }
   ],
   "source": [
    "test_data"
   ]
  },
  {
   "cell_type": "code",
   "execution_count": null,
   "id": "fc451bdf-859d-4592-9708-43c93aa8fbb1",
   "metadata": {},
   "outputs": [],
   "source": [
    "# retrain node2vec on train_data"
   ]
  },
  {
   "cell_type": "code",
   "execution_count": null,
   "id": "cc7cdc42-69e8-4320-b5df-c044ea48b52f",
   "metadata": {},
   "outputs": [],
   "source": []
  },
  {
   "cell_type": "code",
   "execution_count": 33,
   "id": "e9f11bab-e219-4434-9e2d-16b2e3c702c9",
   "metadata": {},
   "outputs": [],
   "source": [
    "# use those (new) embeddings for link prediction"
   ]
  },
  {
   "cell_type": "code",
   "execution_count": null,
   "id": "4a632698-60fd-40d6-b3c3-d924402f24e5",
   "metadata": {},
   "outputs": [],
   "source": []
  },
  {
   "cell_type": "code",
   "execution_count": null,
   "id": "c840653f-8348-4792-86fd-59679ee523bf",
   "metadata": {},
   "outputs": [],
   "source": []
  },
  {
   "cell_type": "code",
   "execution_count": null,
   "id": "96f0649e-7dbc-441b-b019-1f7239a5c5c1",
   "metadata": {},
   "outputs": [],
   "source": []
  }
 ],
 "metadata": {
  "kernelspec": {
   "display_name": "Python 3 (ipykernel)",
   "language": "python",
   "name": "python3"
  },
  "language_info": {
   "codemirror_mode": {
    "name": "ipython",
    "version": 3
   },
   "file_extension": ".py",
   "mimetype": "text/x-python",
   "name": "python",
   "nbconvert_exporter": "python",
   "pygments_lexer": "ipython3",
   "version": "3.11.10"
  }
 },
 "nbformat": 4,
 "nbformat_minor": 5
}
