{
 "cells": [
  {
   "cell_type": "code",
   "execution_count": 11,
   "metadata": {},
   "outputs": [],
   "source": [
    "import torch"
   ]
  },
  {
   "cell_type": "code",
   "execution_count": 22,
   "metadata": {},
   "outputs": [],
   "source": [
    "data_processed = 'data_processed'"
   ]
  },
  {
   "cell_type": "code",
   "execution_count": 23,
   "metadata": {},
   "outputs": [
    {
     "name": "stderr",
     "output_type": "stream",
     "text": [
      "/tmp/ipykernel_2380161/4058910880.py:1: FutureWarning: You are using `torch.load` with `weights_only=False` (the current default value), which uses the default pickle module implicitly. It is possible to construct malicious pickle data which will execute arbitrary code during unpickling (See https://github.com/pytorch/pytorch/blob/main/SECURITY.md#untrusted-models for more details). In a future release, the default value for `weights_only` will be flipped to `True`. This limits the functions that could be executed during unpickling. Arbitrary objects will no longer be allowed to be loaded via this mode unless they are explicitly allowlisted by the user via `torch.serialization.add_safe_globals`. We recommend you start setting `weights_only=True` for any use case where you don't have full control of the loaded file. Please open an issue on GitHub for any issues related to this experimental feature.\n",
      "  activities = torch.load(data_processed + '/activities.pt')\n",
      "/tmp/ipykernel_2380161/4058910880.py:2: FutureWarning: You are using `torch.load` with `weights_only=False` (the current default value), which uses the default pickle module implicitly. It is possible to construct malicious pickle data which will execute arbitrary code during unpickling (See https://github.com/pytorch/pytorch/blob/main/SECURITY.md#untrusted-models for more details). In a future release, the default value for `weights_only` will be flipped to `True`. This limits the functions that could be executed during unpickling. Arbitrary objects will no longer be allowed to be loaded via this mode unless they are explicitly allowlisted by the user via `torch.serialization.add_safe_globals`. We recommend you start setting `weights_only=True` for any use case where you don't have full control of the loaded file. Please open an issue on GitHub for any issues related to this experimental feature.\n",
      "  poses = torch.load(data_processed + '/poses.pt')\n"
     ]
    }
   ],
   "source": [
    "activities = torch.load(data_processed + '/activities.pt')\n",
    "poses = torch.load(data_processed + '/poses.pt')"
   ]
  },
  {
   "cell_type": "code",
   "execution_count": 44,
   "metadata": {},
   "outputs": [
    {
     "name": "stdout",
     "output_type": "stream",
     "text": [
      "tensor([4.9000e+01, 2.4967e+04, 1.3155e+04, 4.7700e+02, 5.4240e+03, 3.0000e+01,\n",
      "        2.8000e+01, 1.0950e+03, 3.2300e+02, 9.8000e+01, 6.8000e+01, 8.3000e+01,\n",
      "        4.0000e+00, 4.9000e+02, 7.3000e+02, 2.0630e+03, 1.6250e+03, 4.9300e+02,\n",
      "        9.0000e+00, 1.0000e+00, 1.4800e+02, 8.9000e+01, 2.0000e+02, 3.3000e+01,\n",
      "        1.3900e+02, 9.5000e+01, 2.4710e+03, 2.6000e+01, 8.0000e+00, 5.7840e+03,\n",
      "        1.3690e+03, 2.0000e+01, 3.1810e+03, 2.2000e+01, 2.9700e+02, 1.1400e+02,\n",
      "        6.6000e+01, 9.5000e+01, 0.0000e+00, 8.7000e+01, 2.0320e+03, 1.8000e+02,\n",
      "        5.1000e+01, 9.7000e+01, 8.3600e+02, 2.0000e+00, 1.5000e+01, 4.3000e+01,\n",
      "        1.1200e+02, 4.8000e+01, 8.0000e+00, 3.1000e+01, 1.1000e+01, 4.0000e+00,\n",
      "        1.8500e+02, 5.4000e+01, 5.4560e+03, 1.0000e+01, 4.9184e+04, 3.2700e+02,\n",
      "        2.2000e+01, 6.2463e+04, 5.1800e+02, 7.0000e+00, 1.5600e+02, 4.7450e+03,\n",
      "        1.6000e+01, 9.7000e+01, 7.1000e+01, 5.1500e+02, 1.6300e+02, 4.2300e+02,\n",
      "        1.2800e+02, 1.7900e+02, 1.3160e+03, 2.5000e+01, 2.6996e+04, 1.3600e+02,\n",
      "        2.7540e+03, 5.5260e+03, 1.0025e+04, 1.2500e+02])\n",
      "tensor([61, 58, 76,  1,  2, 80, 29, 79, 56,  4, 65, 32, 78, 26, 15, 40, 16, 30,\n",
      "        74,  7, 44, 14, 62, 69, 17, 13,  3, 71, 59,  8, 34, 22, 54, 41, 73, 70,\n",
      "        64, 20, 24, 77, 72, 81, 35, 48,  9, 43, 67, 37, 25, 21, 39, 11, 68, 10,\n",
      "        36, 55, 42,  0, 49, 47, 23, 51,  5,  6, 27, 75, 33, 60, 31, 66, 46, 52,\n",
      "        57, 18, 50, 28, 63, 12, 53, 45, 19, 38])\n"
     ]
    }
   ],
   "source": [
    "class_count =activities.sum(dim=0)\n",
    "# output the most common activities by sorting the class count\n",
    "print(class_count)\n",
    "_, indices = torch.sort(class_count, descending=True)\n",
    "print(indices)\n"
   ]
  },
  {
   "cell_type": "code",
   "execution_count": 48,
   "metadata": {},
   "outputs": [
    {
     "name": "stdout",
     "output_type": "stream",
     "text": [
      "tensor(62463.)\n",
      "tensor(49184.)\n",
      "tensor(111647.)\n"
     ]
    }
   ],
   "source": [
    "# find if there are any activities that do not have labels 61 and 58\n",
    "print(activities[:, 61].sum())\n",
    "print(activities[:, 58].sum())\n",
    "\n",
    "print(activities[:, 61].sum() + activities[:, 58].sum())"
   ]
  },
  {
   "cell_type": "code",
   "execution_count": 64,
   "metadata": {},
   "outputs": [],
   "source": [
    "# show activities that do not have labels 61 and 58\n",
    "activities_no_58 = activities[activities[:, 58] == 0]\n",
    "activities_no_61 = activities_no_58[activities_no_58[:, 61] == 0]\n",
    "activities_no_61_count = activities_no_61.sum(dim=0)"
   ]
  },
  {
   "cell_type": "code",
   "execution_count": null,
   "metadata": {},
   "outputs": [],
   "source": []
  },
  {
   "cell_type": "code",
   "execution_count": 68,
   "metadata": {},
   "outputs": [
    {
     "name": "stdout",
     "output_type": "stream",
     "text": [
      "Filtered dataset size: 62067\n"
     ]
    },
    {
     "name": "stderr",
     "output_type": "stream",
     "text": [
      "/tmp/ipykernel_2380161/4272263145.py:41: FutureWarning: You are using `torch.load` with `weights_only=False` (the current default value), which uses the default pickle module implicitly. It is possible to construct malicious pickle data which will execute arbitrary code during unpickling (See https://github.com/pytorch/pytorch/blob/main/SECURITY.md#untrusted-models for more details). In a future release, the default value for `weights_only` will be flipped to `True`. This limits the functions that could be executed during unpickling. Arbitrary objects will no longer be allowed to be loaded via this mode unless they are explicitly allowlisted by the user via `torch.serialization.add_safe_globals`. We recommend you start setting `weights_only=True` for any use case where you don't have full control of the loaded file. Please open an issue on GitHub for any issues related to this experimental feature.\n",
      "  sit_stand_model.load_state_dict(torch.load(\"best_sit_stand.pth\"))\n",
      "/tmp/ipykernel_2380161/4272263145.py:52: FutureWarning: You are using `torch.load` with `weights_only=False` (the current default value), which uses the default pickle module implicitly. It is possible to construct malicious pickle data which will execute arbitrary code during unpickling (See https://github.com/pytorch/pytorch/blob/main/SECURITY.md#untrusted-models for more details). In a future release, the default value for `weights_only` will be flipped to `True`. This limits the functions that could be executed during unpickling. Arbitrary objects will no longer be allowed to be loaded via this mode unless they are explicitly allowlisted by the user via `torch.serialization.add_safe_globals`. We recommend you start setting `weights_only=True` for any use case where you don't have full control of the loaded file. Please open an issue on GitHub for any issues related to this experimental feature.\n",
      "  model.load_state_dict(torch.load(config[\"model_save_path\"]))\n",
      "Inference on Test Set: 100%|██████████| 7/7 [00:02<00:00,  3.28it/s]"
     ]
    },
    {
     "name": "stdout",
     "output_type": "stream",
     "text": [
      "Multiclass Accuracy on Test Set: 0.6097\n",
      "Final Test Multiclass Accuracy: 0.6097\n"
     ]
    },
    {
     "name": "stderr",
     "output_type": "stream",
     "text": [
      "\n"
     ]
    }
   ],
   "source": [
    "import torch\n",
    "from torch_geometric.nn import DataParallel  # Use PyG DataParallel\n",
    "from sklearn.metrics import f1_score, accuracy_score\n",
    "from tqdm import tqdm\n",
    "import wandb\n",
    "from hik.data.scene import Scene\n",
    "from models import GINE  # Import the GINE model\n",
    "from data_prep import generate_dataloaders\n",
    "\n",
    "# Initialize WandB\n",
    "# wandb.init(project=\"main-gine-inference\", entity=\"kaisar-dauletbek\")\n",
    "\n",
    "# Configuration\n",
    "config = {\n",
    "    \"batch_size\": 1028,\n",
    "    \"hidden_dim\": 512,\n",
    "    \"input_dim\": 4,\n",
    "    \"num_layers\": 8,\n",
    "    \"lr\": 0.001,\n",
    "    \"model_save_path\": \"best_main_gine_model.pth\"\n",
    "}\n",
    "# wandb.config.update(config)\n",
    "\n",
    "# Load dataset and create dataloaders\n",
    "graph_dataset, _, _, test_loader = generate_dataloaders(config[\"batch_size\"])\n",
    "\n",
    "# Device setup\n",
    "device = torch.device(\"cuda\" if torch.cuda.is_available() else \"cpu\")\n",
    "\n",
    "# Output dimension based on dataset\n",
    "output_dim = graph_dataset[0].y.size(1)\n",
    "\n",
    "# Load the sit_stand model\n",
    "sit_stand_model = GINE(\n",
    "    num_features=3,\n",
    "    num_classes=3,\n",
    "    hidden_channels=256,\n",
    "    num_layers=8,\n",
    "    use_batch_norm=True\n",
    ").to(device)\n",
    "sit_stand_model.load_state_dict(torch.load(\"best_sit_stand.pth\"))\n",
    "sit_stand_model.eval()\n",
    "\n",
    "# Load the main model\n",
    "model = GINE(\n",
    "    num_features=config[\"input_dim\"],\n",
    "    num_classes=output_dim,\n",
    "    hidden_channels=128,\n",
    "    num_layers=config[\"num_layers\"],\n",
    "    use_batch_norm=True\n",
    ").to(device)\n",
    "model.load_state_dict(torch.load(config[\"model_save_path\"]))\n",
    "model.eval()\n",
    "\n",
    "# Inference Script for Test Split\n",
    "def inference_on_test_split(model, test_loader):\n",
    "    \"\"\"\n",
    "    Perform inference on the test split and calculate multiclass accuracy.\n",
    "\n",
    "    Args:\n",
    "        model: Trained GINE model.\n",
    "        test_loader: DataLoader for the test set.\n",
    "\n",
    "    Returns:\n",
    "        multiclass_accuracy: Accuracy of the predictions across multiple classes.\n",
    "    \"\"\"\n",
    "    model.eval()\n",
    "    all_preds = []\n",
    "    all_labels = []\n",
    "    correct = 0\n",
    "    total = 0\n",
    "\n",
    "    with torch.no_grad():\n",
    "        for batch in tqdm(test_loader, desc=\"Inference on Test Set\"):\n",
    "            # Move batch to device\n",
    "            batch = batch.to(device)\n",
    "\n",
    "            # Get sit/stand predictions from the pre-trained model\n",
    "            sit_stand_out = sit_stand_model(batch.x, batch.edge_index, batch.edge_attr, batch.batch)\n",
    "            sit_stand_pred = torch.argmax(sit_stand_out, dim=1)\n",
    "            sit_stand_pred = torch.repeat_interleave(sit_stand_pred, 145, dim=0).unsqueeze(0).T\n",
    "\n",
    "            # Add sit/stand predictions to input features\n",
    "            batch.x = torch.cat((batch.x, sit_stand_pred), 1)\n",
    "\n",
    "            # Get predictions from the main model\n",
    "            out = model(batch.x, batch.edge_index, batch.edge_attr, batch.batch)\n",
    "\n",
    "            # Convert logits to class predictions\n",
    "            preds = torch.argmax(torch.sigmoid(out), dim=1)\n",
    "\n",
    "            # Accumulate predictions and labels\n",
    "            all_preds.append(preds.cpu())\n",
    "            all_labels.append(torch.argmax(batch.y, dim=1).cpu())  # Convert one-hot to class indices\n",
    "\n",
    "            # Calculate accuracy for this batch\n",
    "            correct += (preds == torch.argmax(batch.y, dim=1)).sum().item()\n",
    "            total += batch.y.size(0)\n",
    "\n",
    "    # Concatenate all predictions and labels\n",
    "    all_preds = torch.cat(all_preds, dim=0)\n",
    "    all_labels = torch.cat(all_labels, dim=0)\n",
    "\n",
    "    # Calculate overall accuracy\n",
    "    multiclass_accuracy = correct / total\n",
    "    print(f\"Multiclass Accuracy on Test Set: {multiclass_accuracy:.4f}\")\n",
    "\n",
    "    # Optionally log the accuracy using WandB\n",
    "    wandb.log({\"test_multiclass_accuracy\": multiclass_accuracy})\n",
    "\n",
    "    return multiclass_accuracy\n",
    "\n",
    "\n",
    "# Perform inference and calculate test accuracy\n",
    "test_accuracy = inference_on_test_split(model, test_loader)\n",
    "print(f\"Final Test Multiclass Accuracy: {test_accuracy:.4f}\")\n"
   ]
  },
  {
   "cell_type": "code",
   "execution_count": 1,
   "metadata": {},
   "outputs": [
    {
     "name": "stderr",
     "output_type": "stream",
     "text": [
      "/home/kd/Documents/graphml/Graph_Machine_Learning_ProjectX/data_prep.py:315: FutureWarning: You are using `torch.load` with `weights_only=False` (the current default value), which uses the default pickle module implicitly. It is possible to construct malicious pickle data which will execute arbitrary code during unpickling (See https://github.com/pytorch/pytorch/blob/main/SECURITY.md#untrusted-models for more details). In a future release, the default value for `weights_only` will be flipped to `True`. This limits the functions that could be executed during unpickling. Arbitrary objects will no longer be allowed to be loaded via this mode unless they are explicitly allowlisted by the user via `torch.serialization.add_safe_globals`. We recommend you start setting `weights_only=True` for any use case where you don't have full control of the loaded file. Please open an issue on GitHub for any issues related to this experimental feature.\n",
      "  graph_dataset = torch.load('data_processed/graphs.pt')\n"
     ]
    },
    {
     "name": "stdout",
     "output_type": "stream",
     "text": [
      "Filtered dataset size: 78065\n"
     ]
    }
   ],
   "source": [
    "import torch\n",
    "from torch_geometric.nn import DataParallel  # Use PyG DataParallel\n",
    "from sklearn.metrics import f1_score, accuracy_score\n",
    "from tqdm import tqdm\n",
    "import wandb\n",
    "from hik.data.scene import Scene\n",
    "from models import GraphTransformer  # Import the GINE model\n",
    "from data_prep import generate_dataloaders\n",
    "\n",
    "# Initialize WandB\n",
    "# wandb.init(project=\"main-gine-inference\", entity=\"kaisar-dauletbek\")\n",
    "\n",
    "# Configuration\n",
    "config = {\n",
    "    \"batch_size\": 128,\n",
    "    \"hidden_dim\": 256,\n",
    "    \"input_dim\": 3,\n",
    "    \"num_heads\": 16,\n",
    "    \"lr\": 0.001,\n",
    "    \"epochs\": 100,\n",
    "    \"model_save_path\": \"best_model.pth\"\n",
    "}\n",
    "# wandb.config.update(config)\n",
    "\n",
    "# Load dataset and create dataloaders\n",
    "graph_dataset, _, _, test_loader = generate_dataloaders(config[\"batch_size\"])"
   ]
  },
  {
   "cell_type": "code",
   "execution_count": 4,
   "metadata": {},
   "outputs": [
    {
     "name": "stderr",
     "output_type": "stream",
     "text": [
      "/tmp/ipykernel_3223708/4232834263.py:27: FutureWarning: You are using `torch.load` with `weights_only=False` (the current default value), which uses the default pickle module implicitly. It is possible to construct malicious pickle data which will execute arbitrary code during unpickling (See https://github.com/pytorch/pytorch/blob/main/SECURITY.md#untrusted-models for more details). In a future release, the default value for `weights_only` will be flipped to `True`. This limits the functions that could be executed during unpickling. Arbitrary objects will no longer be allowed to be loaded via this mode unless they are explicitly allowlisted by the user via `torch.serialization.add_safe_globals`. We recommend you start setting `weights_only=True` for any use case where you don't have full control of the loaded file. Please open an issue on GitHub for any issues related to this experimental feature.\n",
      "  model.load_state_dict(torch.load(config[\"model_save_path\"]))\n",
      "Inference on Test Set: 100%|██████████| 61/61 [00:18<00:00,  3.30it/s]"
     ]
    },
    {
     "name": "stdout",
     "output_type": "stream",
     "text": [
      "Multiclass Accuracy on Test Set: 0.1447\n",
      "Final Test Multiclass Accuracy: 0.1447\n"
     ]
    },
    {
     "name": "stderr",
     "output_type": "stream",
     "text": [
      "\n"
     ]
    }
   ],
   "source": [
    "\n",
    "\n",
    "# Device setup\n",
    "device = torch.device(\"cuda\" if torch.cuda.is_available() else \"cpu\")\n",
    "\n",
    "# Output dimension based on dataset\n",
    "output_dim = graph_dataset[0].y.size(1)\n",
    "\n",
    "# # Load the sit_stand model\n",
    "# sit_stand_model = GINE(\n",
    "#     num_features=3,\n",
    "#     num_classes=3,\n",
    "#     hidden_channels=256,\n",
    "#     num_layers=8,\n",
    "#     use_batch_norm=True\n",
    "# ).to(device)\n",
    "# sit_stand_model.load_state_dict(torch.load(\"best_sit_stand.pth\"))\n",
    "# sit_stand_model.eval()\n",
    "\n",
    "# Load the main model\n",
    "\n",
    "model = GraphTransformer(\n",
    "    config[\"input_dim\"],\n",
    "    config[\"hidden_dim\"],\n",
    "    output_dim,\n",
    "    config[\"num_heads\"]\n",
    ").to(device)\n",
    "\n",
    "model.load_state_dict(torch.load(config[\"model_save_path\"]))\n",
    "model.eval()\n",
    "\n",
    "# Inference Script for Test Split\n",
    "def inference_on_test_split(model, test_loader):\n",
    "    \"\"\"\n",
    "    Perform inference on the test split and calculate multiclass accuracy.\n",
    "\n",
    "    Args:\n",
    "        model: Trained GINE model.\n",
    "        test_loader: DataLoader for the test set.\n",
    "\n",
    "    Returns:\n",
    "        multiclass_accuracy: Accuracy of the predictions across multiple classes.\n",
    "    \"\"\"\n",
    "    model.eval()\n",
    "    all_preds = []\n",
    "    all_labels = []\n",
    "    correct = 0\n",
    "    total = 0\n",
    "\n",
    "    with torch.no_grad():\n",
    "        for batch in tqdm(test_loader, desc=\"Inference on Test Set\"):\n",
    "            # Move batch to device\n",
    "            batch = batch.to(device)\n",
    "\n",
    "            # Get sit/stand predictions from the pre-trained model\n",
    "            # sit_stand_out = sit_stand_model(batch.x, batch.edge_index, batch.edge_attr, batch.batch)\n",
    "            # sit_stand_pred = torch.argmax(sit_stand_out, dim=1)\n",
    "            # sit_stand_pred = torch.repeat_interleave(sit_stand_pred, 145, dim=0).unsqueeze(0).T\n",
    "\n",
    "            # Add sit/stand predictions to input features\n",
    "            # batch.x = torch.cat((batch.x, sit_stand_pred), 1)\n",
    "\n",
    "            # Get predictions from the main model\n",
    "            # redefine batch without edge_attr\n",
    "            out = model(batch)\n",
    "\n",
    "            # Convert logits to class predictions\n",
    "            # preds = torch.argmax(torch.sigmoid(out), dim=1)\n",
    "            preds = torch.argmax(out, dim=1)\n",
    "\n",
    "            # Accumulate predictions and labels\n",
    "            all_preds.append(preds.cpu())\n",
    "            all_labels.append(torch.argmax(batch.y, dim=1).cpu())  # Convert one-hot to class indices\n",
    "\n",
    "            # Calculate accuracy for this batch\n",
    "            correct += (preds == torch.argmax(batch.y, dim=1)).sum().item()\n",
    "            total += batch.y.size(0)\n",
    "\n",
    "    # Concatenate all predictions and labels\n",
    "    all_preds = torch.cat(all_preds, dim=0)\n",
    "    all_labels = torch.cat(all_labels, dim=0)\n",
    "\n",
    "    # Calculate overall accuracy\n",
    "    multiclass_accuracy = correct / total\n",
    "    print(f\"Multiclass Accuracy on Test Set: {multiclass_accuracy:.4f}\")\n",
    "\n",
    "    # Optionally log the accuracy using WandB\n",
    "    # wandb.log({\"test_multiclass_accuracy\": multiclass_accuracy})\n",
    "\n",
    "    return multiclass_accuracy\n",
    "\n",
    "\n",
    "# Perform inference and calculate test accuracy\n",
    "test_accuracy = inference_on_test_split(model, test_loader)\n",
    "print(f\"Final Test Multiclass Accuracy: {test_accuracy:.4f}\")\n"
   ]
  },
  {
   "cell_type": "code",
   "execution_count": 73,
   "metadata": {},
   "outputs": [
    {
     "name": "stderr",
     "output_type": "stream",
     "text": [
      "/tmp/ipykernel_2380161/2713139490.py:1: FutureWarning: You are using `torch.load` with `weights_only=False` (the current default value), which uses the default pickle module implicitly. It is possible to construct malicious pickle data which will execute arbitrary code during unpickling (See https://github.com/pytorch/pytorch/blob/main/SECURITY.md#untrusted-models for more details). In a future release, the default value for `weights_only` will be flipped to `True`. This limits the functions that could be executed during unpickling. Arbitrary objects will no longer be allowed to be loaded via this mode unless they are explicitly allowlisted by the user via `torch.serialization.add_safe_globals`. We recommend you start setting `weights_only=True` for any use case where you don't have full control of the loaded file. Please open an issue on GitHub for any issues related to this experimental feature.\n",
      "  graphs = torch.load('data_processed/graphs.pt')\n"
     ]
    }
   ],
   "source": [
    "graphs = torch.load('data_processed/graphs.pt')"
   ]
  },
  {
   "cell_type": "code",
   "execution_count": 80,
   "metadata": {},
   "outputs": [
    {
     "data": {
      "text/plain": [
       "tensor([0.1166])"
      ]
     },
     "execution_count": 80,
     "metadata": {},
     "output_type": "execute_result"
    }
   ],
   "source": [
    "graphs[0].edge_attr[0].float()"
   ]
  }
 ],
 "metadata": {
  "kernelspec": {
   "display_name": "base",
   "language": "python",
   "name": "python3"
  },
  "language_info": {
   "codemirror_mode": {
    "name": "ipython",
    "version": 3
   },
   "file_extension": ".py",
   "mimetype": "text/x-python",
   "name": "python",
   "nbconvert_exporter": "python",
   "pygments_lexer": "ipython3",
   "version": "3.12.4"
  }
 },
 "nbformat": 4,
 "nbformat_minor": 2
}
