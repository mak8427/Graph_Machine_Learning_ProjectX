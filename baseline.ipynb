{
 "cells": [
  {
   "cell_type": "code",
   "execution_count": 44,
   "metadata": {},
   "outputs": [],
   "source": [
    "import torch\n",
    "import torch_geometric as pyg\n",
    "from torch_geometric.data import Data\n",
    "from torch_geometric.loader import DataLoader\n",
    "import torch.nn as nn\n",
    "from torch.nn import Dropout, Linear\n",
    "from torch_geometric.nn import GCNConv, global_mean_pool, GATConv, BatchNorm\n",
    "from torch.utils.data import Dataset, random_split\n",
    "from sklearn.model_selection import train_test_split\n",
    "from sklearn.metrics import accuracy_score, f1_score\n",
    "from einops import rearrange\n",
    "import numpy as np\n",
    "import os\n",
    "from collections import Counter\n",
    "import networkx as nx\n",
    "import matplotlib.pyplot as plt\n",
    "\n",
    "from hik.data.scene import Scene\n",
    "from hik.vis.pose import get_meta"
   ]
  },
  {
   "cell_type": "code",
   "execution_count": 2,
   "metadata": {},
   "outputs": [],
   "source": [
    "body_edges = [\n",
    "            (1, 0),\n",
    "            (0, 2),\n",
    "            (1, 4),\n",
    "            (4, 7),\n",
    "            (7, 10),\n",
    "            (2, 5),\n",
    "            (5, 8),\n",
    "            (8, 11),\n",
    "            (16, 18),\n",
    "            (18, 20),\n",
    "            (17, 19),\n",
    "            (19, 21),\n",
    "            (16, 13),\n",
    "            (17, 14),\n",
    "            (13, 12),\n",
    "            (14, 12),\n",
    "            (12, 15),\n",
    "            (15, 23),\n",
    "            (24, 25),\n",
    "            (24, 26),\n",
    "            (25, 27),\n",
    "            (26, 28),\n",
    "        ]"
   ]
  },
  {
   "cell_type": "code",
   "execution_count": 3,
   "metadata": {},
   "outputs": [
    {
     "name": "stderr",
     "output_type": "stream",
     "text": [
      "  0%|          | 0/319 [00:00<?, ?it/s]"
     ]
    },
    {
     "name": "stderr",
     "output_type": "stream",
     "text": [
      "100%|██████████| 319/319 [00:04<00:00, 65.67it/s]\n"
     ]
    }
   ],
   "source": [
    "data_location = 'data'\n",
    "dataset_name = \"A\" \n",
    "# A, B, C, D\n",
    "\n",
    "sample_length = 30 # frames\n",
    "step_size = 30\n",
    "\n",
    "scene = Scene.load_from_paths(\n",
    "dataset_name,\n",
    "data_location + \"/poses/\",\n",
    "data_location + \"/scenes/\",\n",
    "data_location + \"/body_models/\",\n",
    ")\n",
    "\n",
    "splits = scene.get_splits(\n",
    "sample_length,\n",
    "stepsize=sample_length,\n",
    ")\n",
    "\n",
    "poses = rearrange(splits[\"poses3d\"],\n",
    "\"n_seq n_frames n_person n_joints n_xyz -> (n_seq n_person) n_frames n_xyz n_joints\")\n",
    "\n",
    "masks = rearrange(splits[\"masks\"],\n",
    "\"n_seq n_frames n_person -> (n_seq n_person) n_frames\")\n",
    "\n",
    "activities = rearrange(splits[\"activities\"],\n",
    "\"n_seq n_frames n_person n_activities -> (n_seq n_person) n_frames n_activities\")\n",
    "\n",
    "# # Splits looks like this:\n",
    "\n",
    "# \"poses3d\": poses3d, \n",
    "# # n_seq x n_frames x n_person x 29 x 3\n",
    "\n",
    "# \"smpls\": smpls, \n",
    "# # n_seq x n_frames x n_person x 21 x 3|4\n",
    "\n",
    "# \"transforms\": transforms, \n",
    "# # n_seq x n_frames x n_person x 3+(3|4)\n",
    "\n",
    "# \"masks\": masks, \n",
    "# # n_seq x n_frames n_person\n",
    "\n",
    "# \"activities\": acts, \n",
    "# # n_seq x n_frames x n_person x 82\n",
    "\n",
    "# \"start_frames\":\n",
    "#  start_frames, # n_seq \n",
    "\n"
   ]
  },
  {
   "cell_type": "code",
   "execution_count": 25,
   "metadata": {},
   "outputs": [
    {
     "data": {
      "text/plain": [
       "(77364, 30, 82)"
      ]
     },
     "execution_count": 25,
     "metadata": {},
     "output_type": "execute_result"
    }
   ],
   "source": [
    "activities.shape"
   ]
  },
  {
   "cell_type": "code",
   "execution_count": 4,
   "metadata": {},
   "outputs": [
    {
     "data": {
      "image/png": "[encoded data removed]",
      "text/plain": [
       "<Figure size 640x480 with 1 Axes>"
      ]
     },
     "metadata": {},
     "output_type": "display_data"
    }
   ],
   "source": [
    "person = splits['poses3d'][0][0][0]\n",
    "\n",
    "# plot person in 3d \n",
    "fig = plt.figure()\n",
    "ax = fig.add_subplot(111, projection='3d')\n",
    "ax.scatter(person[:,0], person[:,1], person[:,2])\n",
    "for edge in body_edges:\n",
    "    ax.plot([person[edge[0],0], person[edge[1],0]], [person[edge[0],1], person[edge[1],1]], [person[edge[0],2], person[edge[1],2]])\n",
    "ax.view_init(elev=0, azim=0)\n",
    "plt.show()\n"
   ]
  },
  {
   "cell_type": "code",
   "execution_count": 31,
   "metadata": {},
   "outputs": [],
   "source": [
    "\n",
    "class HiKDataset(Dataset):\n",
    "    def __init__(self, dataset, data_location, sample_length=30, step_size=30, downsample_rate=6):\n",
    "        self.scene = Scene.load_from_paths(\n",
    "            dataset,\n",
    "            os.path.join(data_location, \"poses\"),\n",
    "            os.path.join(data_location, \"scenes\"),\n",
    "            os.path.join(data_location, \"body_models\")\n",
    "        )\n",
    "        \n",
    "        self.splits = self.scene.get_splits(sample_length, stepsize=step_size)\n",
    "        self.process_data(downsample_rate)\n",
    "\n",
    "    def process_data(self, downsample_rate):\n",
    "        # Extract relevant data\n",
    "        poses3d = self.splits[\"poses3d\"]  # n_seq x n_frames x n_person x 29 x 3\n",
    "        masks = self.splits[\"masks\"]  # n_seq x n_frames x n_person\n",
    "        activities = self.splits[\"activities\"]  # n_seq x n_frames x n_person x 82\n",
    "\n",
    "        # Transform to single-person format\n",
    "        n_seq, n_frames, n_person, n_joints, n_xyz = poses3d.shape\n",
    "        self.poses = rearrange(\n",
    "            poses3d, \"n_seq n_frames n_person n_joints n_xyz -> (n_seq n_person) n_frames n_xyz n_joints\"\n",
    "        )\n",
    "        self.masks = rearrange(\n",
    "            masks, \"n_seq n_frames n_person -> (n_seq n_person) n_frames\"\n",
    "        )\n",
    "        self.activities = rearrange(\n",
    "            activities, \"n_seq n_frames n_person n_activities -> (n_seq n_person) n_frames n_activities\"\n",
    "        )\n",
    "\n",
    "        # Drop sequences with missing data\n",
    "        valid_indices = np.all(self.masks, axis=1)\n",
    "\n",
    "        self.poses = self.poses[valid_indices]\n",
    "        self.activities = self.activities[valid_indices]\n",
    "\n",
    "        # Downsample to reduce framerate (e.g., every 6th frame)\n",
    "        self.poses = self.poses[:, ::downsample_rate, :, :]\n",
    "        self.activities = self.activities[:, ::downsample_rate, :]\n",
    "\n",
    "    def __len__(self):\n",
    "        return len(self.poses)\n",
    "\n",
    "    def __getitem__(self, idx):\n",
    "        return {\n",
    "            \"poses\": torch.tensor(self.poses[idx], dtype=torch.float32),\n",
    "            \"activity_label\": torch.tensor(self.activities[idx, self.activities.shape[1] // 2], dtype=torch.float32)\n",
    "        }\n",
    "\n",
    "class GraphDataset(Dataset):\n",
    "    def __init__(self, hik_dataset):\n",
    "        self.graphs = []\n",
    "        for idx in range(len(hik_dataset)):\n",
    "            data = hik_dataset[idx]\n",
    "            poses = data[\"poses\"]  # n_frames x n_xyz x n_joints\n",
    "            label = data[\"activity_label\"]\n",
    "\n",
    "            graph_data = self.create_graph(poses, label)\n",
    "            self.graphs.append(graph_data)\n",
    "\n",
    "    def create_graph(self, poses, label):\n",
    "        n_frames, n_xyz, n_joints = poses.shape\n",
    "\n",
    "        # Nodes and features\n",
    "        features = poses.view(-1, n_xyz)  # Flatten frames and joints to (n_frames * n_joints, n_xyz)\n",
    "        num_nodes = n_frames * n_joints\n",
    "\n",
    "        # Edges: spatial and temporal\n",
    "        edges = []\n",
    "\n",
    "        # Spatial edges (connect neighboring joints)\n",
    "        for t in range(n_frames):\n",
    "            for j in range(n_joints - 1):\n",
    "                node_id = t * n_joints + j\n",
    "                next_node_id = t * n_joints + (j + 1)\n",
    "                edges.append([node_id, next_node_id])\n",
    "                edges.append([next_node_id, node_id])\n",
    "\n",
    "        # Temporal edges (connect same joints across frames)\n",
    "        for t in range(n_frames - 1):\n",
    "            for j in range(n_joints):\n",
    "                node_id = t * n_joints + j\n",
    "                next_node_id = (t + 1) * n_joints + j\n",
    "                edges.append([node_id, next_node_id])\n",
    "                edges.append([next_node_id, node_id])\n",
    "\n",
    "        edge_index = torch.tensor(edges, dtype=torch.long).t().contiguous()  # Shape: [2, num_edges]\n",
    "\n",
    "        # Create PyG Data object\n",
    "        graph_data = Data(\n",
    "            x=features,  # Node features\n",
    "            edge_index=edge_index,  # Edges\n",
    "            y=label.unsqueeze(0)  # Graph label\n",
    "        )\n",
    "\n",
    "        return graph_data\n",
    "\n",
    "    def __len__(self):\n",
    "        return len(self.graphs)\n",
    "\n",
    "    def __getitem__(self, idx):\n",
    "        return self.graphs[idx]\n"
   ]
  },
  {
   "cell_type": "code",
   "execution_count": 50,
   "metadata": {},
   "outputs": [
    {
     "name": "stderr",
     "output_type": "stream",
     "text": [
      "100%|██████████| 319/319 [00:04<00:00, 77.61it/s]\n"
     ]
    }
   ],
   "source": [
    "dataset = HiKDataset(dataset_name, data_location, sample_length, step_size)\n",
    "graph_dataset = GraphDataset(dataset)\n",
    "\n",
    "data_loader = DataLoader(graph_dataset, batch_size=32, shuffle=True)\n",
    "\n",
    "# Splitting the dataset\n",
    "train_size = int(0.8 * len(graph_dataset))\n",
    "val_size = int(0.1 * len(graph_dataset))\n",
    "test_size = len(graph_dataset) - train_size - val_size\n",
    "\n",
    "train_dataset, val_dataset, test_dataset = random_split(graph_dataset, [train_size, val_size, test_size])\n",
    "\n",
    "train_loader = DataLoader(train_dataset, batch_size=32, shuffle=True)\n",
    "val_loader = DataLoader(val_dataset, batch_size=32, shuffle=False)\n",
    "test_loader = DataLoader(test_dataset, batch_size=32, shuffle=False)\n"
   ]
  },
  {
   "cell_type": "code",
   "execution_count": 82,
   "metadata": {},
   "outputs": [
    {
     "data": {
      "text/plain": [
       "Data(x=[145, 3], edge_index=[2, 512], y=[1, 82])"
      ]
     },
     "execution_count": 82,
     "metadata": {},
     "output_type": "execute_result"
    }
   ],
   "source": [
    "graph_dataset[0]"
   ]
  },
  {
   "cell_type": "code",
   "execution_count": 67,
   "metadata": {},
   "outputs": [
    {
     "data": {
      "image/png": "[encoded data removed]",
      "text/plain": [
       "<Figure size 640x480 with 1 Axes>"
      ]
     },
     "metadata": {},
     "output_type": "display_data"
    }
   ],
   "source": [
    "person_test = dataset[0][\"poses\"][0].T\n",
    "\n",
    "# plot person in 3d\n",
    "fig = plt.figure()\n",
    "ax = fig.add_subplot(111, projection='3d')\n",
    "ax.scatter(person_test[:,0], person_test[:,1], person_test[:,2])\n",
    "for edge in body_edges:\n",
    "    ax.plot([person_test[edge[0],0], person_test[edge[1],0]], [person_test[edge[0],1], person_test[edge[1],1]], [person_test[edge[0],2], person_test[edge[1],2]])\n",
    "ax.view_init(elev=0, azim=0)\n",
    "plt.show()"
   ]
  },
  {
   "cell_type": "code",
   "execution_count": 60,
   "metadata": {},
   "outputs": [
    {
     "data": {
      "text/plain": [
       "Data(x=[145, 3], edge_index=[2, 512], y=[1, 82])"
      ]
     },
     "execution_count": 60,
     "metadata": {},
     "output_type": "execute_result"
    }
   ],
   "source": [
    "graph_dataset[0]"
   ]
  },
  {
   "cell_type": "code",
   "execution_count": 47,
   "metadata": {},
   "outputs": [],
   "source": [
    "class GCN(torch.nn.Module):\n",
    "    def __init__(self, input_dim, hidden_dim, output_dim):\n",
    "        super(GCN, self).__init__()\n",
    "        self.conv1 = GCNConv(input_dim, hidden_dim)\n",
    "        self.conv2 = GCNConv(hidden_dim, hidden_dim)\n",
    "        self.fc = torch.nn.Linear(hidden_dim, output_dim)\n",
    "\n",
    "    def forward(self, data):\n",
    "        x, edge_index, batch = data.x, data.edge_index, data.batch\n",
    "\n",
    "        x = self.conv1(x, edge_index)\n",
    "        x = torch.relu(x)\n",
    "        x = self.conv2(x, edge_index)\n",
    "        x = torch.relu(x)\n",
    "\n",
    "        x = global_mean_pool(x, batch)  # Global mean pooling\n",
    "        x = self.fc(x)\n",
    "\n",
    "        return x\n"
   ]
  },
  {
   "cell_type": "code",
   "execution_count": 73,
   "metadata": {},
   "outputs": [],
   "source": [
    "# Device setup\n",
    "device = torch.device(\"cuda\" if torch.cuda.is_available() else \"cpu\")\n",
    "\n",
    "# Training Setup\n",
    "input_dim = 3  # Node feature size (x, y, z)\n",
    "hidden_dim = 512\n",
    "output_dim = graph_dataset[0].y.size(1)  # Number of labels\n",
    "\n",
    "model = GCN(input_dim, hidden_dim, output_dim).to(device)\n",
    "optimizer = torch.optim.AdamW(model.parameters(), lr=0.001)\n",
    "loss_fn = torch.nn.BCEWithLogitsLoss()  # Multilabel classification"
   ]
  },
  {
   "cell_type": "code",
   "execution_count": 72,
   "metadata": {},
   "outputs": [
    {
     "name": "stdout",
     "output_type": "stream",
     "text": [
      "Epoch 1/10, Train Loss: 0.1090, Val F1: 0.0074\n",
      "Epoch 2/10, Train Loss: 0.0623, Val F1: 0.0140\n",
      "Epoch 3/10, Train Loss: 0.0607, Val F1: 0.0113\n",
      "Epoch 4/10, Train Loss: 0.0587, Val F1: 0.0157\n",
      "Epoch 5/10, Train Loss: 0.0554, Val F1: 0.0189\n",
      "Epoch 6/10, Train Loss: 0.0523, Val F1: 0.0193\n",
      "Epoch 7/10, Train Loss: 0.0504, Val F1: 0.0230\n",
      "Epoch 8/10, Train Loss: 0.0492, Val F1: 0.0225\n",
      "Epoch 9/10, Train Loss: 0.0484, Val F1: 0.0272\n",
      "Epoch 10/10, Train Loss: 0.0478, Val F1: 0.0296\n",
      "Test F1 Score: 0.0284\n"
     ]
    }
   ],
   "source": [
    "# Training Loop\n",
    "def train(model, loader, optimizer, loss_fn):\n",
    "    model.train()\n",
    "    total_loss = 0\n",
    "    for batch in loader:\n",
    "        batch = batch.to(device)  # Move entire batch to the device\n",
    "        optimizer.zero_grad()\n",
    "        out = model(batch)\n",
    "        loss = loss_fn(out, batch.y.float())\n",
    "        loss.backward()\n",
    "        optimizer.step()\n",
    "        total_loss += loss.item()\n",
    "    return total_loss / len(loader)\n",
    "\n",
    "# Evaluation Loop\n",
    "def evaluate(model, loader):\n",
    "    model.eval()\n",
    "    all_preds = []\n",
    "    all_labels = []\n",
    "    with torch.no_grad():\n",
    "        for batch in loader:\n",
    "            batch = batch.to(device)  # Move entire batch to the device\n",
    "            out = model(batch)\n",
    "            preds = (torch.sigmoid(out) > 0.5).float()\n",
    "            all_preds.append(preds.cpu())\n",
    "            all_labels.append(batch.y.cpu())\n",
    "\n",
    "    all_preds = torch.cat(all_preds, dim=0)\n",
    "    all_labels = torch.cat(all_labels, dim=0)\n",
    "\n",
    "    # f1 = f1_score(all_labels, all_preds, average=\"macro\")\n",
    "    f1 = f1_score(all_labels, all_preds, average=\"macro\", zero_division=0)\n",
    "\n",
    "    return f1\n",
    "\n",
    "\n",
    "# Training and Validation\n",
    "epochs = 10\n",
    "for epoch in range(epochs):\n",
    "    train_loss = train(model, train_loader, optimizer, loss_fn)\n",
    "    val_f1 = evaluate(model, val_loader)\n",
    "    print(f\"Epoch {epoch + 1}/{epochs}, Train Loss: {train_loss:.4f}, Val F1: {val_f1:.4f}\")\n",
    "\n",
    "# Testing\n",
    "test_f1 = evaluate(model, test_loader)\n",
    "print(f\"Test F1 Score: {test_f1:.4f}\")\n"
   ]
  },
  {
   "cell_type": "code",
   "execution_count": 80,
   "metadata": {},
   "outputs": [
    {
     "name": "stdout",
     "output_type": "stream",
     "text": [
      "torch.Size([32, 82])\n"
     ]
    }
   ],
   "source": [
    "for batch in train_loader:\n",
    "    batch = batch.to(device)  # Move entire batch to the device\n",
    "    # optimizer.zero_grad()\n",
    "    out = model(batch)\n",
    "    print(batch.y.squeeze().shape)\n",
    "    break"
   ]
  },
  {
   "cell_type": "code",
   "execution_count": 76,
   "metadata": {},
   "outputs": [
    {
     "data": {
      "text/plain": [
       "torch.Size([32, 82])"
      ]
     },
     "execution_count": 76,
     "metadata": {},
     "output_type": "execute_result"
    }
   ],
   "source": [
    "out.shape"
   ]
  }
 ],
 "metadata": {
  "kernelspec": {
   "display_name": "base",
   "language": "python",
   "name": "python3"
  },
  "language_info": {
   "codemirror_mode": {
    "name": "ipython",
    "version": 3
   },
   "file_extension": ".py",
   "mimetype": "text/x-python",
   "name": "python",
   "nbconvert_exporter": "python",
   "pygments_lexer": "ipython3",
   "version": "3.12.4"
  }
 },
 "nbformat": 4,
 "nbformat_minor": 2
}
