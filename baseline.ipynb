{
 "cells": [
  {
   "cell_type": "code",
<<<<<<< HEAD
   "metadata": {
    "ExecuteTime": {
     "end_time": "2025-01-15T09:38:11.240841Z",
     "start_time": "2025-01-15T09:38:06.718229Z"
    }
   },
=======
   "execution_count": 44,
   "metadata": {},
   "outputs": [],
>>>>>>> origin/Kaisar
   "source": [
    "import torch\n",
    "import torch_geometric as pyg\n",
    "from torch_geometric.data import Data\n",
    "from torch_geometric.loader import DataLoader\n",
    "import torch.nn as nn\n",
    "from torch.nn import Dropout, Linear\n",
    "from torch_geometric.nn import GCNConv, global_mean_pool, GATConv, BatchNorm\n",
    "from torch.utils.data import Dataset, random_split\n",
    "from sklearn.model_selection import train_test_split\n",
    "from sklearn.metrics import accuracy_score, f1_score\n",
    "from einops import rearrange\n",
    "import numpy as np\n",
    "import os\n",
    "from collections import Counter\n",
    "import networkx as nx\n",
    "import matplotlib.pyplot as plt\n",
    "\n",
    "from hik.data.scene import Scene\n",
    "from hik.vis.pose import get_meta"
   ],
   "outputs": [],
   "execution_count": 1
  },
  {
   "cell_type": "code",
<<<<<<< HEAD
   "metadata": {
    "ExecuteTime": {
     "end_time": "2025-01-15T09:38:36.152471Z",
     "start_time": "2025-01-15T09:38:11.245173Z"
    }
   },
   "source": [
    "# Example: define data_location\n",
    "data_location = \"data\"\n",
    "\n",
    "# Choose your dataset (options: \"A\", \"B\", \"C\", or \"D\")\n",
    "dataset = \"A\"\n",
    "\n",
    "# Number of frames in each sequence segment\n",
    "sample_length = 30\n",
    "\n",
    "# Load Scene object\n",
    "scene = Scene.load_from_paths(\n",
    "    dataset,\n",
    "    f\"{data_location}/poses/\",\n",
    "    f\"{data_location}/scenes/\",\n",
    "    f\"{data_location}/body_models/\",\n",
    ")\n",
    "\n",
    "# Generate splits\n",
    "splits = scene.get_splits(\n",
    "    length=sample_length,\n",
    "    stepsize=sample_length,\n",
    ")\n",
    "\n",
    "print(splits.keys())\n",
    "# dict_keys(['poses3d', 'smpls', 'transforms', 'masks', 'activities', 'start_frames'])\n"
   ],
   "outputs": [
    {
     "name": "stderr",
     "output_type": "stream",
     "text": [
      "100%|██████████| 319/319 [00:10<00:00, 29.16it/s]\n"
     ]
    },
    {
     "name": "stdout",
     "output_type": "stream",
     "text": [
      "dict_keys(['poses3d', 'smpls', 'transforms', 'masks', 'activities', 'start_frames'])\n"
     ]
    }
   ],
   "execution_count": 2
  },
  {
   "cell_type": "code",
   "metadata": {
    "ExecuteTime": {
     "end_time": "2025-01-15T09:38:39.903720Z",
     "start_time": "2025-01-15T09:38:36.221347Z"
    }
   },
   "source": [
    "poses = rearrange(\n",
    "    splits[\"poses3d\"],\n",
    "    \"n_seq n_frames n_person n_joints n_xyz -> (n_seq n_person) n_frames n_xyz n_joints\"\n",
    ")\n",
    "\n",
    "masks = rearrange(\n",
    "    splits[\"masks\"],\n",
    "    \"n_seq n_frames n_person -> (n_seq n_person) n_frames\"\n",
    ")\n",
    "\n",
    "activities = rearrange(\n",
    "    splits[\"activities\"],\n",
    "    \"n_seq n_frames n_person n_activities -> (n_seq n_person) n_frames n_activities\"\n",
    ")\n",
    "\n",
    "print(\"poses shape:\", poses.shape)         # [N, n_frames, n_xyz, n_joints]\n",
    "print(\"masks shape:\", masks.shape)         # [N, n_frames]\n",
    "print(\"activities shape:\", activities.shape) # [N, n_frames, n_activities]"
   ],
   "outputs": [
    {
     "name": "stdout",
     "output_type": "stream",
     "text": [
      "poses shape: (77364, 30, 3, 29)\n",
      "masks shape: (77364, 30)\n",
      "activities shape: (77364, 30, 82)\n"
     ]
    }
   ],
   "execution_count": 3
  },
  {
   "cell_type": "code",
   "metadata": {
    "ExecuteTime": {
     "end_time": "2025-01-15T09:42:22.825797Z",
     "start_time": "2025-01-15T09:42:22.691500Z"
    }
   },
   "source": [
    "# Convert masks to bool, in case they're not already\n",
    "masks_bool = masks.astype(bool)\n",
    "\n",
    "# sequences_to_keep: boolean array of shape [N]\n",
    "sequences_to_keep = np.all(masks_bool, axis=1)  # True if ALL frames are valid in that sequence\n",
    "\n",
    "poses = poses[sequences_to_keep]\n",
    "masks = masks[sequences_to_keep]\n",
    "activities = activities[sequences_to_keep]\n",
    "\n",
    "print(\"Filtered poses shape:\", poses.shape)"
   ],
   "outputs": [
    {
     "name": "stdout",
     "output_type": "stream",
     "text": [
      "Filtered poses shape: (19026, 30, 3, 29)\n"
     ]
    }
   ],
   "execution_count": 4
  },
  {
   "cell_type": "code",
   "metadata": {
    "ExecuteTime": {
     "end_time": "2025-01-15T09:42:23.873520Z",
     "start_time": "2025-01-15T09:42:23.865443Z"
    }
   },
   "source": [
    "downsample_rate = 6\n",
    "poses_downsampled = poses[:, ::downsample_rate, :, :]\n",
    "masks_downsampled = masks[:, ::downsample_rate]\n",
    "activities_downsampled = activities[:, ::downsample_rate, :]\n",
    "\n",
    "print(\"Downsampled poses shape:\", poses_downsampled.shape)\n",
    "# e.g. [N, 5, 3, 29] if your sample_length was 30"
   ],
   "outputs": [
    {
     "name": "stdout",
     "output_type": "stream",
     "text": [
      "Downsampled poses shape: (19026, 5, 3, 29)\n"
     ]
    }
   ],
   "execution_count": 5
  },
  {
   "cell_type": "code",
   "metadata": {
    "ExecuteTime": {
     "end_time": "2025-01-15T09:42:24.540342Z",
     "start_time": "2025-01-15T09:42:24.531518Z"
    }
   },
   "source": [
    "L = poses_downsampled.shape[1]  # number of frames after downsampling\n",
    "center_frame_idx = L // 2\n",
    "\n",
    "# We'll store the center frame's activity labels for classification\n",
    "activities_center = activities_downsampled[:, center_frame_idx, :]\n",
    "\n",
    "print(\"Center frame activity labels shape:\", activities_center.shape)\n",
    "# [N, n_activities]"
   ],
   "outputs": [
    {
     "name": "stdout",
     "output_type": "stream",
     "text": [
      "Center frame activity labels shape: (19026, 82)\n"
     ]
    }
   ],
   "execution_count": 6
  },
  {
   "cell_type": "code",
   "metadata": {
    "ExecuteTime": {
     "end_time": "2025-01-15T09:42:41.508577Z",
     "start_time": "2025-01-15T09:42:41.504193Z"
    }
   },
=======
   "execution_count": 2,
   "metadata": {},
   "outputs": [],
>>>>>>> origin/Kaisar
   "source": [
    "body_edges= [\n",
    "    (1, 0),\n",
    "    (0, 2),\n",
    "    (1, 4),\n",
    "    (4, 7),\n",
    "    (7, 10),\n",
    "    (2, 5),\n",
    "    (5, 8),\n",
    "    (8, 11),\n",
    "    (16, 18),\n",
    "    (18, 20),\n",
    "    (17, 19),\n",
    "    (19, 21),\n",
    "    (16, 13),\n",
    "    (17, 14),\n",
    "    (13, 12),\n",
    "    (14, 12),\n",
    "    (12, 15),\n",
    "    (15, 23),\n",
    "    (24, 25),\n",
    "    (24, 26),\n",
    "    (25, 27),\n",
    "    (26, 28),\n",
    "]"
   ],
   "outputs": [],
   "execution_count": 7
  },
  {
   "cell_type": "code",
<<<<<<< HEAD
   "metadata": {
    "ExecuteTime": {
     "end_time": "2025-01-15T09:42:43.536852Z",
     "start_time": "2025-01-15T09:42:43.527779Z"
    }
   },
   "source": [
    "def build_spatio_temporal_edges(n_frames, n_joints, body_edges):\n",
    "    \"\"\"\n",
    "    Returns a list of edges for the spatio-temporal graph given the skeleton edges and the number of frames.\n",
    "    \"\"\"\n",
    "    edges = []\n",
    "    for t in range(n_frames):\n",
    "        # Spatial edges in each frame\n",
    "        for (j1, j2) in body_edges:\n",
    "            node1 = t * n_joints + j1\n",
    "            node2 = t * n_joints + j2\n",
    "            edges.append((node1, node2))\n",
    "            edges.append((node2, node1))\n",
    "\n",
    "        # Temporal edges between frames\n",
    "        if t < n_frames - 1:\n",
    "            for j in range(n_joints):\n",
    "                node_current = t * n_joints + j\n",
    "                node_next = (t + 1) * n_joints + j\n",
    "                edges.append((node_current, node_next))\n",
    "                edges.append((node_next, node_current))\n",
    "\n",
    "    return edges\n"
   ],
   "outputs": [],
   "execution_count": 8
  },
  {
   "cell_type": "code",
   "metadata": {
    "ExecuteTime": {
     "end_time": "2025-01-15T09:42:45.796798Z",
     "start_time": "2025-01-15T09:42:45.786261Z"
    }
   },
   "source": [
    "def build_graph_data(pose_sequence):\n",
    "    \"\"\"\n",
    "    pose_sequence: array of shape [n_frames, n_joints, n_xyz] or [n_frames, n_xyz, n_joints]\n",
    "    \n",
    "    Returns:\n",
    "    - node_features: torch.FloatTensor [n_frames * n_joints, 3]\n",
    "    - edge_index: torch.LongTensor [2, #edges]\n",
    "    \"\"\"\n",
    "    # Check dimensions of input\n",
    "    if pose_sequence.shape[-1] == 3:  # [n_frames, n_joints, n_xyz]\n",
    "        node_features = pose_sequence.reshape(-1, 3)\n",
    "    elif pose_sequence.shape[1] == 3:  # [n_frames, n_xyz, n_joints]\n",
    "        pose_sequence = pose_sequence.transpose(0, 2, 1)  # Convert to [n_frames, n_joints, n_xyz]\n",
    "        node_features = pose_sequence.reshape(-1, 3)\n",
    "    else:\n",
    "        raise ValueError(\"Unexpected shape for pose_sequence:\", pose_sequence.shape)\n",
    "\n",
    "    # Determine n_frames and n_joints\n",
    "    n_frames = pose_sequence.shape[0]\n",
    "    n_joints = pose_sequence.shape[1]\n",
    "\n",
    "    # Build edges\n",
    "    edges = build_spatio_temporal_edges(n_frames, n_joints, body_edges)\n",
    "\n",
    "    # Convert edges to PyTorch tensors\n",
    "    edge_index = torch.LongTensor(edges).T  # shape [2, #edges]\n",
    "    return torch.FloatTensor(node_features), edge_index\n"
   ],
   "outputs": [],
   "execution_count": 9
  },
  {
   "cell_type": "code",
   "execution_count": 139,
   "metadata": {},
   "outputs": [],
   "source": [
    "# Suppose we have poses_downsampled, activities_center\n",
    "# Step: Build a list of Data objects for PyTorch Geometric\n",
    "\n",
    "graph_list = []\n",
    "labels_list = []\n",
    "\n",
    "for i in range(poses_downsampled.shape[0]):\n",
    "    pose_seq = poses_downsampled[i]    # shape [L, 3, 29]\n",
    "    label = activities_center[i]       # shape [82] multi-label\n",
    "    \n",
    "    # Build node features & edges\n",
    "    node_feats, edge_index = build_graph_data(pose_seq)\n",
    "\n",
    "    # Convert label to a torch tensor\n",
    "    label_tensor = torch.FloatTensor(label)\n",
    "\n",
    "    # Create a PyG Data object\n",
    "    graph_data = Data(\n",
    "        x=node_feats,        # [n_nodes, in_features] \n",
    "        edge_index=edge_index, \n",
    "        y=label_tensor       # multi-label\n",
    "    )\n",
    "    graph_list.append(graph_data)\n",
    "\n",
    "# Now we have a list of Data objects\n",
    "# We can put them into a PyG DataLoader\n"
   ]
  },
  {
   "cell_type": "code",
   "execution_count": 142,
=======
   "execution_count": 3,
>>>>>>> origin/Kaisar
   "metadata": {},
   "outputs": [
    {
     "name": "stderr",
     "output_type": "stream",
     "text": [
      "  0%|          | 0/319 [00:00<?, ?it/s]"
     ]
    },
    {
<<<<<<< HEAD
     "ename": "KeyboardInterrupt",
     "evalue": "",
     "output_type": "error",
     "traceback": [
      "\u001B[0;31m---------------------------------------------------------------------------\u001B[0m",
      "\u001B[0;31mKeyboardInterrupt\u001B[0m                         Traceback (most recent call last)",
      "Cell \u001B[0;32mIn[164], line 61\u001B[0m\n\u001B[1;32m     59\u001B[0m num_epochs \u001B[38;5;241m=\u001B[39m \u001B[38;5;241m100\u001B[39m\n\u001B[1;32m     60\u001B[0m \u001B[38;5;28;01mfor\u001B[39;00m epoch \u001B[38;5;129;01min\u001B[39;00m \u001B[38;5;28mrange\u001B[39m(\u001B[38;5;241m1\u001B[39m, num_epochs \u001B[38;5;241m+\u001B[39m \u001B[38;5;241m1\u001B[39m):\n\u001B[0;32m---> 61\u001B[0m     train_loss \u001B[38;5;241m=\u001B[39m train()\n\u001B[1;32m     62\u001B[0m     val_loss, val_accuracy, val_f1 \u001B[38;5;241m=\u001B[39m evaluate(val_loader)\n\u001B[1;32m     64\u001B[0m     \u001B[38;5;28mprint\u001B[39m(\u001B[38;5;124mf\u001B[39m\u001B[38;5;124m\"\u001B[39m\u001B[38;5;124mEpoch \u001B[39m\u001B[38;5;132;01m{\u001B[39;00mepoch\u001B[38;5;132;01m:\u001B[39;00m\u001B[38;5;124m02d\u001B[39m\u001B[38;5;132;01m}\u001B[39;00m\u001B[38;5;124m, Train Loss: \u001B[39m\u001B[38;5;132;01m{\u001B[39;00mtrain_loss\u001B[38;5;132;01m:\u001B[39;00m\u001B[38;5;124m.4f\u001B[39m\u001B[38;5;132;01m}\u001B[39;00m\u001B[38;5;124m, Val Loss: \u001B[39m\u001B[38;5;132;01m{\u001B[39;00mval_loss\u001B[38;5;132;01m:\u001B[39;00m\u001B[38;5;124m.4f\u001B[39m\u001B[38;5;132;01m}\u001B[39;00m\u001B[38;5;124m, \u001B[39m\u001B[38;5;124m\"\u001B[39m\n\u001B[1;32m     65\u001B[0m           \u001B[38;5;124mf\u001B[39m\u001B[38;5;124m\"\u001B[39m\u001B[38;5;124mVal Accuracy: \u001B[39m\u001B[38;5;132;01m{\u001B[39;00mval_accuracy\u001B[38;5;132;01m:\u001B[39;00m\u001B[38;5;124m.4f\u001B[39m\u001B[38;5;132;01m}\u001B[39;00m\u001B[38;5;124m, Val F1: \u001B[39m\u001B[38;5;132;01m{\u001B[39;00mval_f1\u001B[38;5;132;01m:\u001B[39;00m\u001B[38;5;124m.4f\u001B[39m\u001B[38;5;132;01m}\u001B[39;00m\u001B[38;5;124m\"\u001B[39m)\n",
      "Cell \u001B[0;32mIn[164], line 23\u001B[0m, in \u001B[0;36mtrain\u001B[0;34m()\u001B[0m\n\u001B[1;32m     21\u001B[0m batch_data \u001B[38;5;241m=\u001B[39m batch_data\u001B[38;5;241m.\u001B[39mto(device)  \u001B[38;5;66;03m# Move data to GPU\u001B[39;00m\n\u001B[1;32m     22\u001B[0m optimizer\u001B[38;5;241m.\u001B[39mzero_grad()\n\u001B[0;32m---> 23\u001B[0m pred \u001B[38;5;241m=\u001B[39m model(batch_data)\n\u001B[1;32m     24\u001B[0m \u001B[38;5;28;01mif\u001B[39;00m batch_data\u001B[38;5;241m.\u001B[39my\u001B[38;5;241m.\u001B[39mndim \u001B[38;5;241m==\u001B[39m \u001B[38;5;241m1\u001B[39m:\n\u001B[1;32m     25\u001B[0m     batch_data\u001B[38;5;241m.\u001B[39my \u001B[38;5;241m=\u001B[39m batch_data\u001B[38;5;241m.\u001B[39my\u001B[38;5;241m.\u001B[39mview(pred\u001B[38;5;241m.\u001B[39mshape)  \u001B[38;5;66;03m# Ensure shape consistency\u001B[39;00m\n",
      "File \u001B[0;32m~/anaconda3/lib/python3.12/site-packages/torch/nn/modules/module.py:1553\u001B[0m, in \u001B[0;36mModule._wrapped_call_impl\u001B[0;34m(self, *args, **kwargs)\u001B[0m\n\u001B[1;32m   1551\u001B[0m     \u001B[38;5;28;01mreturn\u001B[39;00m \u001B[38;5;28mself\u001B[39m\u001B[38;5;241m.\u001B[39m_compiled_call_impl(\u001B[38;5;241m*\u001B[39margs, \u001B[38;5;241m*\u001B[39m\u001B[38;5;241m*\u001B[39mkwargs)  \u001B[38;5;66;03m# type: ignore[misc]\u001B[39;00m\n\u001B[1;32m   1552\u001B[0m \u001B[38;5;28;01melse\u001B[39;00m:\n\u001B[0;32m-> 1553\u001B[0m     \u001B[38;5;28;01mreturn\u001B[39;00m \u001B[38;5;28mself\u001B[39m\u001B[38;5;241m.\u001B[39m_call_impl(\u001B[38;5;241m*\u001B[39margs, \u001B[38;5;241m*\u001B[39m\u001B[38;5;241m*\u001B[39mkwargs)\n",
      "File \u001B[0;32m~/anaconda3/lib/python3.12/site-packages/torch/nn/modules/module.py:1562\u001B[0m, in \u001B[0;36mModule._call_impl\u001B[0;34m(self, *args, **kwargs)\u001B[0m\n\u001B[1;32m   1557\u001B[0m \u001B[38;5;66;03m# If we don't have any hooks, we want to skip the rest of the logic in\u001B[39;00m\n\u001B[1;32m   1558\u001B[0m \u001B[38;5;66;03m# this function, and just call forward.\u001B[39;00m\n\u001B[1;32m   1559\u001B[0m \u001B[38;5;28;01mif\u001B[39;00m \u001B[38;5;129;01mnot\u001B[39;00m (\u001B[38;5;28mself\u001B[39m\u001B[38;5;241m.\u001B[39m_backward_hooks \u001B[38;5;129;01mor\u001B[39;00m \u001B[38;5;28mself\u001B[39m\u001B[38;5;241m.\u001B[39m_backward_pre_hooks \u001B[38;5;129;01mor\u001B[39;00m \u001B[38;5;28mself\u001B[39m\u001B[38;5;241m.\u001B[39m_forward_hooks \u001B[38;5;129;01mor\u001B[39;00m \u001B[38;5;28mself\u001B[39m\u001B[38;5;241m.\u001B[39m_forward_pre_hooks\n\u001B[1;32m   1560\u001B[0m         \u001B[38;5;129;01mor\u001B[39;00m _global_backward_pre_hooks \u001B[38;5;129;01mor\u001B[39;00m _global_backward_hooks\n\u001B[1;32m   1561\u001B[0m         \u001B[38;5;129;01mor\u001B[39;00m _global_forward_hooks \u001B[38;5;129;01mor\u001B[39;00m _global_forward_pre_hooks):\n\u001B[0;32m-> 1562\u001B[0m     \u001B[38;5;28;01mreturn\u001B[39;00m forward_call(\u001B[38;5;241m*\u001B[39margs, \u001B[38;5;241m*\u001B[39m\u001B[38;5;241m*\u001B[39mkwargs)\n\u001B[1;32m   1564\u001B[0m \u001B[38;5;28;01mtry\u001B[39;00m:\n\u001B[1;32m   1565\u001B[0m     result \u001B[38;5;241m=\u001B[39m \u001B[38;5;28;01mNone\u001B[39;00m\n",
      "Cell \u001B[0;32mIn[162], line 37\u001B[0m, in \u001B[0;36mBigGCN.forward\u001B[0;34m(self, data)\u001B[0m\n\u001B[1;32m     35\u001B[0m \u001B[38;5;66;03m# Hidden layers\u001B[39;00m\n\u001B[1;32m     36\u001B[0m \u001B[38;5;28;01mfor\u001B[39;00m conv, bn \u001B[38;5;129;01min\u001B[39;00m \u001B[38;5;28mzip\u001B[39m(\u001B[38;5;28mself\u001B[39m\u001B[38;5;241m.\u001B[39mconvs, \u001B[38;5;28mself\u001B[39m\u001B[38;5;241m.\u001B[39mbns):\n\u001B[0;32m---> 37\u001B[0m     x \u001B[38;5;241m=\u001B[39m conv(x, edge_index)\n\u001B[1;32m     38\u001B[0m     x \u001B[38;5;241m=\u001B[39m bn(x)\n\u001B[1;32m     39\u001B[0m     x \u001B[38;5;241m=\u001B[39m torch\u001B[38;5;241m.\u001B[39mrelu(x)\n",
      "File \u001B[0;32m~/anaconda3/lib/python3.12/site-packages/torch/nn/modules/module.py:1553\u001B[0m, in \u001B[0;36mModule._wrapped_call_impl\u001B[0;34m(self, *args, **kwargs)\u001B[0m\n\u001B[1;32m   1551\u001B[0m     \u001B[38;5;28;01mreturn\u001B[39;00m \u001B[38;5;28mself\u001B[39m\u001B[38;5;241m.\u001B[39m_compiled_call_impl(\u001B[38;5;241m*\u001B[39margs, \u001B[38;5;241m*\u001B[39m\u001B[38;5;241m*\u001B[39mkwargs)  \u001B[38;5;66;03m# type: ignore[misc]\u001B[39;00m\n\u001B[1;32m   1552\u001B[0m \u001B[38;5;28;01melse\u001B[39;00m:\n\u001B[0;32m-> 1553\u001B[0m     \u001B[38;5;28;01mreturn\u001B[39;00m \u001B[38;5;28mself\u001B[39m\u001B[38;5;241m.\u001B[39m_call_impl(\u001B[38;5;241m*\u001B[39margs, \u001B[38;5;241m*\u001B[39m\u001B[38;5;241m*\u001B[39mkwargs)\n",
      "File \u001B[0;32m~/anaconda3/lib/python3.12/site-packages/torch/nn/modules/module.py:1562\u001B[0m, in \u001B[0;36mModule._call_impl\u001B[0;34m(self, *args, **kwargs)\u001B[0m\n\u001B[1;32m   1557\u001B[0m \u001B[38;5;66;03m# If we don't have any hooks, we want to skip the rest of the logic in\u001B[39;00m\n\u001B[1;32m   1558\u001B[0m \u001B[38;5;66;03m# this function, and just call forward.\u001B[39;00m\n\u001B[1;32m   1559\u001B[0m \u001B[38;5;28;01mif\u001B[39;00m \u001B[38;5;129;01mnot\u001B[39;00m (\u001B[38;5;28mself\u001B[39m\u001B[38;5;241m.\u001B[39m_backward_hooks \u001B[38;5;129;01mor\u001B[39;00m \u001B[38;5;28mself\u001B[39m\u001B[38;5;241m.\u001B[39m_backward_pre_hooks \u001B[38;5;129;01mor\u001B[39;00m \u001B[38;5;28mself\u001B[39m\u001B[38;5;241m.\u001B[39m_forward_hooks \u001B[38;5;129;01mor\u001B[39;00m \u001B[38;5;28mself\u001B[39m\u001B[38;5;241m.\u001B[39m_forward_pre_hooks\n\u001B[1;32m   1560\u001B[0m         \u001B[38;5;129;01mor\u001B[39;00m _global_backward_pre_hooks \u001B[38;5;129;01mor\u001B[39;00m _global_backward_hooks\n\u001B[1;32m   1561\u001B[0m         \u001B[38;5;129;01mor\u001B[39;00m _global_forward_hooks \u001B[38;5;129;01mor\u001B[39;00m _global_forward_pre_hooks):\n\u001B[0;32m-> 1562\u001B[0m     \u001B[38;5;28;01mreturn\u001B[39;00m forward_call(\u001B[38;5;241m*\u001B[39margs, \u001B[38;5;241m*\u001B[39m\u001B[38;5;241m*\u001B[39mkwargs)\n\u001B[1;32m   1564\u001B[0m \u001B[38;5;28;01mtry\u001B[39;00m:\n\u001B[1;32m   1565\u001B[0m     result \u001B[38;5;241m=\u001B[39m \u001B[38;5;28;01mNone\u001B[39;00m\n",
      "File \u001B[0;32m~/anaconda3/lib/python3.12/site-packages/torch_geometric/nn/conv/gcn_conv.py:241\u001B[0m, in \u001B[0;36mGCNConv.forward\u001B[0;34m(self, x, edge_index, edge_weight)\u001B[0m\n\u001B[1;32m    239\u001B[0m cache \u001B[38;5;241m=\u001B[39m \u001B[38;5;28mself\u001B[39m\u001B[38;5;241m.\u001B[39m_cached_edge_index\n\u001B[1;32m    240\u001B[0m \u001B[38;5;28;01mif\u001B[39;00m cache \u001B[38;5;129;01mis\u001B[39;00m \u001B[38;5;28;01mNone\u001B[39;00m:\n\u001B[0;32m--> 241\u001B[0m     edge_index, edge_weight \u001B[38;5;241m=\u001B[39m gcn_norm(  \u001B[38;5;66;03m# yapf: disable\u001B[39;00m\n\u001B[1;32m    242\u001B[0m         edge_index, edge_weight, x\u001B[38;5;241m.\u001B[39msize(\u001B[38;5;28mself\u001B[39m\u001B[38;5;241m.\u001B[39mnode_dim),\n\u001B[1;32m    243\u001B[0m         \u001B[38;5;28mself\u001B[39m\u001B[38;5;241m.\u001B[39mimproved, \u001B[38;5;28mself\u001B[39m\u001B[38;5;241m.\u001B[39madd_self_loops, \u001B[38;5;28mself\u001B[39m\u001B[38;5;241m.\u001B[39mflow, x\u001B[38;5;241m.\u001B[39mdtype)\n\u001B[1;32m    244\u001B[0m     \u001B[38;5;28;01mif\u001B[39;00m \u001B[38;5;28mself\u001B[39m\u001B[38;5;241m.\u001B[39mcached:\n\u001B[1;32m    245\u001B[0m         \u001B[38;5;28mself\u001B[39m\u001B[38;5;241m.\u001B[39m_cached_edge_index \u001B[38;5;241m=\u001B[39m (edge_index, edge_weight)\n",
      "File \u001B[0;32m~/anaconda3/lib/python3.12/site-packages/torch_geometric/nn/conv/gcn_conv.py:99\u001B[0m, in \u001B[0;36mgcn_norm\u001B[0;34m(edge_index, edge_weight, num_nodes, improved, add_self_loops, flow, dtype)\u001B[0m\n\u001B[1;32m     96\u001B[0m num_nodes \u001B[38;5;241m=\u001B[39m maybe_num_nodes(edge_index, num_nodes)\n\u001B[1;32m     98\u001B[0m \u001B[38;5;28;01mif\u001B[39;00m add_self_loops:\n\u001B[0;32m---> 99\u001B[0m     edge_index, edge_weight \u001B[38;5;241m=\u001B[39m add_remaining_self_loops(\n\u001B[1;32m    100\u001B[0m         edge_index, edge_weight, fill_value, num_nodes)\n\u001B[1;32m    102\u001B[0m \u001B[38;5;28;01mif\u001B[39;00m edge_weight \u001B[38;5;129;01mis\u001B[39;00m \u001B[38;5;28;01mNone\u001B[39;00m:\n\u001B[1;32m    103\u001B[0m     edge_weight \u001B[38;5;241m=\u001B[39m torch\u001B[38;5;241m.\u001B[39mones((edge_index\u001B[38;5;241m.\u001B[39msize(\u001B[38;5;241m1\u001B[39m), ), dtype\u001B[38;5;241m=\u001B[39mdtype,\n\u001B[1;32m    104\u001B[0m                              device\u001B[38;5;241m=\u001B[39medge_index\u001B[38;5;241m.\u001B[39mdevice)\n",
      "File \u001B[0;32m~/anaconda3/lib/python3.12/site-packages/torch_geometric/utils/loop.py:655\u001B[0m, in \u001B[0;36madd_remaining_self_loops\u001B[0;34m(edge_index, edge_attr, fill_value, num_nodes)\u001B[0m\n\u001B[1;32m    652\u001B[0m \u001B[38;5;28;01mif\u001B[39;00m \u001B[38;5;129;01mnot\u001B[39;00m torch\u001B[38;5;241m.\u001B[39mjit\u001B[38;5;241m.\u001B[39mis_scripting() \u001B[38;5;129;01mand\u001B[39;00m \u001B[38;5;28misinstance\u001B[39m(edge_index, EdgeIndex):\n\u001B[1;32m    653\u001B[0m     edge_index\u001B[38;5;241m.\u001B[39m_is_undirected \u001B[38;5;241m=\u001B[39m is_undirected\n\u001B[0;32m--> 655\u001B[0m edge_index \u001B[38;5;241m=\u001B[39m torch\u001B[38;5;241m.\u001B[39mcat([edge_index, loop_index], dim\u001B[38;5;241m=\u001B[39m\u001B[38;5;241m1\u001B[39m)\n\u001B[1;32m    657\u001B[0m \u001B[38;5;28;01mreturn\u001B[39;00m edge_index, edge_attr\n",
      "\u001B[0;31mKeyboardInterrupt\u001B[0m: "
=======
     "name": "stderr",
     "output_type": "stream",
     "text": [
      "100%|██████████| 319/319 [00:04<00:00, 65.67it/s]\n"
>>>>>>> origin/Kaisar
     ]
    }
   ],
   "source": [
    "data_location = 'data'\n",
    "dataset_name = \"A\" \n",
    "# A, B, C, D\n",
    "\n",
    "sample_length = 30 # frames\n",
    "step_size = 30\n",
    "\n",
    "scene = Scene.load_from_paths(\n",
    "dataset_name,\n",
    "data_location + \"/poses/\",\n",
    "data_location + \"/scenes/\",\n",
    "data_location + \"/body_models/\",\n",
    ")\n",
    "\n",
    "splits = scene.get_splits(\n",
    "sample_length,\n",
    "stepsize=sample_length,\n",
    ")\n",
    "\n",
    "poses = rearrange(splits[\"poses3d\"],\n",
    "\"n_seq n_frames n_person n_joints n_xyz -> (n_seq n_person) n_frames n_xyz n_joints\")\n",
    "\n",
    "masks = rearrange(splits[\"masks\"],\n",
    "\"n_seq n_frames n_person -> (n_seq n_person) n_frames\")\n",
    "\n",
    "activities = rearrange(splits[\"activities\"],\n",
    "\"n_seq n_frames n_person n_activities -> (n_seq n_person) n_frames n_activities\")\n",
    "\n",
    "# # Splits looks like this:\n",
    "\n",
    "# \"poses3d\": poses3d, \n",
    "# # n_seq x n_frames x n_person x 29 x 3\n",
    "\n",
    "# \"smpls\": smpls, \n",
    "# # n_seq x n_frames x n_person x 21 x 3|4\n",
    "\n",
    "# \"transforms\": transforms, \n",
    "# # n_seq x n_frames x n_person x 3+(3|4)\n",
    "\n",
    "# \"masks\": masks, \n",
    "# # n_seq x n_frames n_person\n",
    "\n",
    "# \"activities\": acts, \n",
    "# # n_seq x n_frames x n_person x 82\n",
    "\n",
    "# \"start_frames\":\n",
    "#  start_frames, # n_seq \n",
    "\n"
   ]
  },
  {
   "cell_type": "code",
   "execution_count": 25,
   "metadata": {},
   "outputs": [
    {
     "data": {
      "text/plain": [
       "(77364, 30, 82)"
      ]
     },
     "execution_count": 25,
     "metadata": {},
     "output_type": "execute_result"
    }
   ],
   "source": [
    "activities.shape"
   ]
  },
  {
   "cell_type": "code",
   "execution_count": 4,
   "metadata": {},
   "outputs": [
    {
     "data": {
      "image/png": "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",
      "text/plain": [
       "<Figure size 640x480 with 1 Axes>"
      ]
     },
     "metadata": {},
     "output_type": "display_data"
    }
   ],
   "source": [
    "person = splits['poses3d'][0][0][0]\n",
    "\n",
    "# plot person in 3d \n",
    "fig = plt.figure()\n",
    "ax = fig.add_subplot(111, projection='3d')\n",
    "ax.scatter(person[:,0], person[:,1], person[:,2])\n",
    "for edge in body_edges:\n",
    "    ax.plot([person[edge[0],0], person[edge[1],0]], [person[edge[0],1], person[edge[1],1]], [person[edge[0],2], person[edge[1],2]])\n",
    "ax.view_init(elev=0, azim=0)\n",
    "plt.show()\n"
   ]
  },
  {
   "cell_type": "code",
   "execution_count": 31,
   "metadata": {},
   "outputs": [],
   "source": [
    "\n",
    "class HiKDataset(Dataset):\n",
    "    def __init__(self, dataset, data_location, sample_length=30, step_size=30, downsample_rate=6):\n",
    "        self.scene = Scene.load_from_paths(\n",
    "            dataset,\n",
    "            os.path.join(data_location, \"poses\"),\n",
    "            os.path.join(data_location, \"scenes\"),\n",
    "            os.path.join(data_location, \"body_models\")\n",
    "        )\n",
    "        \n",
    "        self.splits = self.scene.get_splits(sample_length, stepsize=step_size)\n",
    "        self.process_data(downsample_rate)\n",
    "\n",
    "    def process_data(self, downsample_rate):\n",
    "        # Extract relevant data\n",
    "        poses3d = self.splits[\"poses3d\"]  # n_seq x n_frames x n_person x 29 x 3\n",
    "        masks = self.splits[\"masks\"]  # n_seq x n_frames x n_person\n",
    "        activities = self.splits[\"activities\"]  # n_seq x n_frames x n_person x 82\n",
    "\n",
    "        # Transform to single-person format\n",
    "        n_seq, n_frames, n_person, n_joints, n_xyz = poses3d.shape\n",
    "        self.poses = rearrange(\n",
    "            poses3d, \"n_seq n_frames n_person n_joints n_xyz -> (n_seq n_person) n_frames n_xyz n_joints\"\n",
    "        )\n",
    "        self.masks = rearrange(\n",
    "            masks, \"n_seq n_frames n_person -> (n_seq n_person) n_frames\"\n",
    "        )\n",
    "        self.activities = rearrange(\n",
    "            activities, \"n_seq n_frames n_person n_activities -> (n_seq n_person) n_frames n_activities\"\n",
    "        )\n",
    "\n",
    "        # Drop sequences with missing data\n",
    "        valid_indices = np.all(self.masks, axis=1)\n",
    "\n",
    "        self.poses = self.poses[valid_indices]\n",
    "        self.activities = self.activities[valid_indices]\n",
    "\n",
    "        # Downsample to reduce framerate (e.g., every 6th frame)\n",
    "        self.poses = self.poses[:, ::downsample_rate, :, :]\n",
    "        self.activities = self.activities[:, ::downsample_rate, :]\n",
    "\n",
    "    def __len__(self):\n",
    "        return len(self.poses)\n",
    "\n",
    "    def __getitem__(self, idx):\n",
    "        return {\n",
    "            \"poses\": torch.tensor(self.poses[idx], dtype=torch.float32),\n",
    "            \"activity_label\": torch.tensor(self.activities[idx, self.activities.shape[1] // 2], dtype=torch.float32)\n",
    "        }\n",
    "\n",
    "class GraphDataset(Dataset):\n",
    "    def __init__(self, hik_dataset):\n",
    "        self.graphs = []\n",
    "        for idx in range(len(hik_dataset)):\n",
    "            data = hik_dataset[idx]\n",
    "            poses = data[\"poses\"]  # n_frames x n_xyz x n_joints\n",
    "            label = data[\"activity_label\"]\n",
    "\n",
    "            graph_data = self.create_graph(poses, label)\n",
    "            self.graphs.append(graph_data)\n",
    "\n",
    "    def create_graph(self, poses, label):\n",
    "        n_frames, n_xyz, n_joints = poses.shape\n",
    "\n",
    "        # Nodes and features\n",
    "        features = poses.view(-1, n_xyz)  # Flatten frames and joints to (n_frames * n_joints, n_xyz)\n",
    "        num_nodes = n_frames * n_joints\n",
    "\n",
    "        # Edges: spatial and temporal\n",
    "        edges = []\n",
    "\n",
    "        # Spatial edges (connect neighboring joints)\n",
    "        for t in range(n_frames):\n",
    "            for j in range(n_joints - 1):\n",
    "                node_id = t * n_joints + j\n",
    "                next_node_id = t * n_joints + (j + 1)\n",
    "                edges.append([node_id, next_node_id])\n",
    "                edges.append([next_node_id, node_id])\n",
    "\n",
    "        # Temporal edges (connect same joints across frames)\n",
    "        for t in range(n_frames - 1):\n",
    "            for j in range(n_joints):\n",
    "                node_id = t * n_joints + j\n",
    "                next_node_id = (t + 1) * n_joints + j\n",
    "                edges.append([node_id, next_node_id])\n",
    "                edges.append([next_node_id, node_id])\n",
    "\n",
    "        edge_index = torch.tensor(edges, dtype=torch.long).t().contiguous()  # Shape: [2, num_edges]\n",
    "\n",
    "        # Create PyG Data object\n",
    "        graph_data = Data(\n",
    "            x=features,  # Node features\n",
    "            edge_index=edge_index,  # Edges\n",
    "            y=label.unsqueeze(0)  # Graph label\n",
    "        )\n",
    "\n",
    "        return graph_data\n",
    "\n",
    "    def __len__(self):\n",
    "        return len(self.graphs)\n",
    "\n",
    "    def __getitem__(self, idx):\n",
    "        return self.graphs[idx]\n"
   ]
  },
  {
   "cell_type": "code",
   "execution_count": 50,
   "metadata": {},
   "outputs": [
    {
     "name": "stderr",
     "output_type": "stream",
     "text": [
      "100%|██████████| 319/319 [00:04<00:00, 77.61it/s]\n"
     ]
    }
   ],
   "source": [
    "dataset = HiKDataset(dataset_name, data_location, sample_length, step_size)\n",
    "graph_dataset = GraphDataset(dataset)\n",
    "\n",
    "data_loader = DataLoader(graph_dataset, batch_size=32, shuffle=True)\n",
    "\n",
    "# Splitting the dataset\n",
    "train_size = int(0.8 * len(graph_dataset))\n",
    "val_size = int(0.1 * len(graph_dataset))\n",
    "test_size = len(graph_dataset) - train_size - val_size\n",
    "\n",
    "train_dataset, val_dataset, test_dataset = random_split(graph_dataset, [train_size, val_size, test_size])\n",
    "\n",
    "train_loader = DataLoader(train_dataset, batch_size=32, shuffle=True)\n",
    "val_loader = DataLoader(val_dataset, batch_size=32, shuffle=False)\n",
    "test_loader = DataLoader(test_dataset, batch_size=32, shuffle=False)\n"
   ]
  },
  {
   "cell_type": "code",
   "execution_count": 82,
   "metadata": {},
   "outputs": [
    {
     "data": {
      "text/plain": [
       "Data(x=[145, 3], edge_index=[2, 512], y=[1, 82])"
      ]
     },
     "execution_count": 82,
     "metadata": {},
     "output_type": "execute_result"
    }
   ],
   "source": [
    "graph_dataset[0]"
   ]
  },
  {
   "cell_type": "code",
   "execution_count": 67,
   "metadata": {},
   "outputs": [
    {
     "data": {
      "image/png": "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",
      "text/plain": [
       "<Figure size 640x480 with 1 Axes>"
      ]
     },
     "metadata": {},
     "output_type": "display_data"
    }
   ],
   "source": [
    "person_test = dataset[0][\"poses\"][0].T\n",
    "\n",
    "# plot person in 3d\n",
    "fig = plt.figure()\n",
    "ax = fig.add_subplot(111, projection='3d')\n",
    "ax.scatter(person_test[:,0], person_test[:,1], person_test[:,2])\n",
    "for edge in body_edges:\n",
    "    ax.plot([person_test[edge[0],0], person_test[edge[1],0]], [person_test[edge[0],1], person_test[edge[1],1]], [person_test[edge[0],2], person_test[edge[1],2]])\n",
    "ax.view_init(elev=0, azim=0)\n",
    "plt.show()"
   ]
  },
  {
   "cell_type": "code",
   "execution_count": 60,
   "metadata": {},
   "outputs": [
    {
     "data": {
      "text/plain": [
       "Data(x=[145, 3], edge_index=[2, 512], y=[1, 82])"
      ]
     },
     "execution_count": 60,
     "metadata": {},
     "output_type": "execute_result"
    }
   ],
   "source": [
    "graph_dataset[0]"
   ]
  },
  {
   "cell_type": "code",
   "execution_count": 47,
   "metadata": {},
   "outputs": [],
   "source": [
    "class GCN(torch.nn.Module):\n",
    "    def __init__(self, input_dim, hidden_dim, output_dim):\n",
    "        super(GCN, self).__init__()\n",
    "        self.conv1 = GCNConv(input_dim, hidden_dim)\n",
    "        self.conv2 = GCNConv(hidden_dim, hidden_dim)\n",
    "        self.fc = torch.nn.Linear(hidden_dim, output_dim)\n",
    "\n",
    "    def forward(self, data):\n",
    "        x, edge_index, batch = data.x, data.edge_index, data.batch\n",
    "\n",
    "        x = self.conv1(x, edge_index)\n",
    "        x = torch.relu(x)\n",
    "        x = self.conv2(x, edge_index)\n",
    "        x = torch.relu(x)\n",
    "\n",
    "        x = global_mean_pool(x, batch)  # Global mean pooling\n",
    "        x = self.fc(x)\n",
    "\n",
    "        return x\n"
   ]
  },
  {
   "cell_type": "code",
   "execution_count": 73,
   "metadata": {},
   "outputs": [],
   "source": [
    "# Device setup\n",
    "device = torch.device(\"cuda\" if torch.cuda.is_available() else \"cpu\")\n",
    "\n",
    "# Training Setup\n",
    "input_dim = 3  # Node feature size (x, y, z)\n",
    "hidden_dim = 512\n",
    "output_dim = graph_dataset[0].y.size(1)  # Number of labels\n",
    "\n",
    "model = GCN(input_dim, hidden_dim, output_dim).to(device)\n",
    "optimizer = torch.optim.AdamW(model.parameters(), lr=0.001)\n",
    "loss_fn = torch.nn.BCEWithLogitsLoss()  # Multilabel classification"
   ]
  },
  {
   "cell_type": "code",
   "execution_count": 72,
   "metadata": {},
   "outputs": [
    {
     "name": "stdout",
     "output_type": "stream",
     "text": [
      "Epoch 1/10, Train Loss: 0.1090, Val F1: 0.0074\n",
      "Epoch 2/10, Train Loss: 0.0623, Val F1: 0.0140\n",
      "Epoch 3/10, Train Loss: 0.0607, Val F1: 0.0113\n",
      "Epoch 4/10, Train Loss: 0.0587, Val F1: 0.0157\n",
      "Epoch 5/10, Train Loss: 0.0554, Val F1: 0.0189\n",
      "Epoch 6/10, Train Loss: 0.0523, Val F1: 0.0193\n",
      "Epoch 7/10, Train Loss: 0.0504, Val F1: 0.0230\n",
      "Epoch 8/10, Train Loss: 0.0492, Val F1: 0.0225\n",
      "Epoch 9/10, Train Loss: 0.0484, Val F1: 0.0272\n",
      "Epoch 10/10, Train Loss: 0.0478, Val F1: 0.0296\n",
      "Test F1 Score: 0.0284\n"
     ]
    }
   ],
   "source": [
    "# Training Loop\n",
    "def train(model, loader, optimizer, loss_fn):\n",
    "    model.train()\n",
    "    total_loss = 0\n",
    "    for batch in loader:\n",
    "        batch = batch.to(device)  # Move entire batch to the device\n",
    "        optimizer.zero_grad()\n",
    "        out = model(batch)\n",
    "        loss = loss_fn(out, batch.y.float())\n",
    "        loss.backward()\n",
    "        optimizer.step()\n",
    "        total_loss += loss.item()\n",
    "    return total_loss / len(loader)\n",
    "\n",
    "# Evaluation Loop\n",
    "def evaluate(model, loader):\n",
    "    model.eval()\n",
    "    all_preds = []\n",
    "    all_labels = []\n",
    "    with torch.no_grad():\n",
    "        for batch in loader:\n",
    "            batch = batch.to(device)  # Move entire batch to the device\n",
    "            out = model(batch)\n",
    "            preds = (torch.sigmoid(out) > 0.5).float()\n",
    "            all_preds.append(preds.cpu())\n",
    "            all_labels.append(batch.y.cpu())\n",
    "\n",
    "    all_preds = torch.cat(all_preds, dim=0)\n",
    "    all_labels = torch.cat(all_labels, dim=0)\n",
    "\n",
    "    # f1 = f1_score(all_labels, all_preds, average=\"macro\")\n",
    "    f1 = f1_score(all_labels, all_preds, average=\"macro\", zero_division=0)\n",
    "\n",
    "    return f1\n",
    "\n",
    "\n",
    "# Training and Validation\n",
    "epochs = 10\n",
    "for epoch in range(epochs):\n",
    "    train_loss = train(model, train_loader, optimizer, loss_fn)\n",
    "    val_f1 = evaluate(model, val_loader)\n",
    "    print(f\"Epoch {epoch + 1}/{epochs}, Train Loss: {train_loss:.4f}, Val F1: {val_f1:.4f}\")\n",
    "\n",
    "# Testing\n",
    "test_f1 = evaluate(model, test_loader)\n",
    "print(f\"Test F1 Score: {test_f1:.4f}\")\n"
   ]
  },
  {
   "cell_type": "code",
   "execution_count": 80,
   "metadata": {},
   "outputs": [
    {
     "name": "stdout",
     "output_type": "stream",
     "text": [
      "torch.Size([32, 82])\n"
     ]
    }
   ],
   "source": [
    "for batch in train_loader:\n",
    "    batch = batch.to(device)  # Move entire batch to the device\n",
    "    # optimizer.zero_grad()\n",
    "    out = model(batch)\n",
    "    print(batch.y.squeeze().shape)\n",
    "    break"
   ]
  },
  {
   "cell_type": "code",
   "execution_count": 76,
   "metadata": {},
   "outputs": [
    {
     "data": {
      "text/plain": [
       "torch.Size([32, 82])"
      ]
     },
     "execution_count": 76,
     "metadata": {},
     "output_type": "execute_result"
    }
   ],
   "source": [
    "out.shape"
   ]
  },
  {
   "cell_type": "code",
   "execution_count": null,
   "metadata": {},
   "outputs": [],
   "source": []
  },
  {
   "cell_type": "code",
   "execution_count": 102,
   "metadata": {},
   "outputs": [],
   "source": [
    "import os\n",
    "import numpy as np\n",
    "from hik.data.scene import Scene\n",
    "from einops import rearrange\n",
    "import torch\n",
    "from torch.utils.data import Dataset, random_split\n",
    "from torch_geometric.data import Data\n",
    "from torch_geometric.loader import DataLoader\n",
    "\n",
    "body_edges = [\n",
    "            (1, 0),\n",
    "            (0, 2),\n",
    "            (1, 4),\n",
    "            (4, 7),\n",
    "            (7, 10),\n",
    "            (2, 5),\n",
    "            (5, 8),\n",
    "            (8, 11),\n",
    "            (16, 18),\n",
    "            (18, 20),\n",
    "            (17, 19),\n",
    "            (19, 21),\n",
    "            (16, 13),\n",
    "            (17, 14),\n",
    "            (13, 12),\n",
    "            (14, 12),\n",
    "            (12, 15),\n",
    "            (15, 23),\n",
    "            (24, 25),\n",
    "            (24, 26),\n",
    "            (25, 27),\n",
    "            (26, 28),\n",
    "        ]\n",
    "\n",
    "\n",
    "class HiKDataset(Dataset):\n",
    "    def __init__(self, dataset, data_location, sample_length=30, step_size=30, downsample_rate=6):\n",
    "        self.scene = Scene.load_from_paths(\n",
    "            dataset,\n",
    "            os.path.join(data_location, \"poses\"),\n",
    "            os.path.join(data_location, \"scenes\"),\n",
    "            os.path.join(data_location, \"body_models\")\n",
    "        )\n",
    "        \n",
    "        self.splits = self.scene.get_splits(sample_length, stepsize=step_size)\n",
    "        self.process_data(downsample_rate)\n",
    "\n",
    "    def process_data(self, downsample_rate):\n",
    "        poses3d = self.splits[\"poses3d\"]\n",
    "        masks = self.splits[\"masks\"]\n",
    "        activities = self.splits[\"activities\"]\n",
    "\n",
    "        n_seq, n_frames, n_person, n_joints, n_xyz = poses3d.shape\n",
    "        self.poses = rearrange(\n",
    "            poses3d, \"n_seq n_frames n_person n_joints n_xyz -> (n_seq n_person) n_frames n_xyz n_joints\"\n",
    "        )\n",
    "        self.masks = rearrange(\n",
    "            masks, \"n_seq n_frames n_person -> (n_seq n_person) n_frames\"\n",
    "        )\n",
    "        self.activities = rearrange(\n",
    "            activities, \"n_seq n_frames n_person n_activities -> (n_seq n_person) n_frames n_activities\"\n",
    "        )\n",
    "\n",
    "        valid_indices = np.all(self.masks, axis=1)\n",
    "\n",
    "        self.poses = self.poses[valid_indices]\n",
    "        self.activities = self.activities[valid_indices]\n",
    "\n",
    "        self.poses = self.poses[:, ::downsample_rate, :, :]\n",
    "        self.activities = self.activities[:, ::downsample_rate, :]\n",
    "\n",
    "    def __len__(self):\n",
    "        return len(self.poses)\n",
    "\n",
    "    def __getitem__(self, idx):\n",
    "        return {\n",
    "            \"poses\": torch.tensor(self.poses[idx], dtype=torch.float32),\n",
    "            \"activity_label\": torch.tensor(self.activities[idx, self.activities.shape[1] // 2], dtype=torch.float32)\n",
    "        }\n",
    "\n",
    "class GraphDataset(Dataset):\n",
    "    def __init__(self, hik_dataset, body_edges):\n",
    "        self.graphs = []\n",
    "        self.body_edges = body_edges\n",
    "\n",
    "        for idx in range(len(hik_dataset)):\n",
    "            data = hik_dataset[idx]\n",
    "            poses = data[\"poses\"]\n",
    "            label = data[\"activity_label\"]\n",
    "\n",
    "            graph_data = self.create_graph(poses, label)\n",
    "            self.graphs.append(graph_data)\n",
    "\n",
    "    def create_graph(self, poses, label):\n",
    "        n_frames, n_xyz, n_joints = poses.shape\n",
    "\n",
    "        # Flatten poses for node features\n",
    "        features = poses.view(-1, n_xyz)\n",
    "\n",
    "        edges = []\n",
    "        edge_features = []\n",
    "\n",
    "        # Add spatial edges and compute spatial edge features\n",
    "        for t in range(n_frames):\n",
    "            for j1, j2 in self.body_edges:\n",
    "                node_id1 = t * n_joints + j1\n",
    "                node_id2 = t * n_joints + j2\n",
    "                edges.append([node_id1, node_id2])\n",
    "                edges.append([node_id2, node_id1])\n",
    "\n",
    "                # Compute Euclidean distance for spatial edge feature\n",
    "                p1 = poses[t, :, j1]\n",
    "                p2 = poses[t, :, j2]\n",
    "                distance = torch.norm(p1 - p2)\n",
    "                edge_features.append(distance)\n",
    "                edge_features.append(distance)\n",
    "\n",
    "        # Add temporal edges and compute temporal edge features\n",
    "        for t in range(n_frames - 1):\n",
    "            for j in range(n_joints):\n",
    "                node_id1 = t * n_joints + j\n",
    "                node_id2 = (t + 1) * n_joints + j\n",
    "                edges.append([node_id1, node_id2])\n",
    "                edges.append([node_id2, node_id1])\n",
    "\n",
    "                # Compute motion for temporal edge feature (velocity vector norm)\n",
    "                p1 = poses[t, :, j]\n",
    "                p2 = poses[t + 1, :, j]\n",
    "                motion = torch.norm(p2 - p1)\n",
    "                edge_features.append(motion)\n",
    "                edge_features.append(motion)\n",
    "\n",
    "        # Convert edges and edge features to tensors\n",
    "        edge_index = torch.tensor(edges, dtype=torch.long).t().contiguous()\n",
    "        edge_features = torch.tensor(edge_features, dtype=torch.float)\n",
    "\n",
    "        # Create graph data object\n",
    "        graph_data = Data(\n",
    "            x=features,\n",
    "            edge_index=edge_index,\n",
    "            edge_attr=edge_features,\n",
    "            y=label.unsqueeze(0),\n",
    "            num_nodes=n_frames * n_joints\n",
    "        )\n",
    "\n",
    "        return graph_data\n",
    "\n",
    "    def __len__(self):\n",
    "        return len(self.graphs)\n",
    "\n",
    "    def __getitem__(self, idx):\n",
    "        return self.graphs[idx]\n"
   ]
  },
  {
   "cell_type": "code",
   "execution_count": 103,
   "metadata": {},
   "outputs": [
    {
     "name": "stderr",
     "output_type": "stream",
     "text": [
      "100%|██████████| 319/319 [00:03<00:00, 90.31it/s] \n"
     ]
    }
   ],
   "source": [
    "data_location = 'data'\n",
    "dataset = 'A'\n",
    "sample_length = 30\n",
    "step_size = 30\n",
    "hik_dataset = HiKDataset(dataset, data_location, sample_length, step_size)dd\n",
    "graph_dataset = GraphDataset(hik_dataset, body_edges)"
   ]
  },
  {
   "cell_type": "code",
   "execution_count": 113,
   "metadata": {},
   "outputs": [
    {
     "data": {
      "text/plain": [
       "Data(x=[145, 3], edge_index=[2, 452], edge_attr=[452], y=[1, 82], num_nodes=145)"
      ]
     },
     "execution_count": 113,
     "metadata": {},
     "output_type": "execute_result"
    }
   ],
   "source": [
    "graph_dataset[0]"
   ]
  },
  {
   "cell_type": "code",
   "execution_count": 117,
   "metadata": {},
   "outputs": [
    {
     "data": {
      "text/plain": [
       "torch.Size([452, 1])"
      ]
     },
     "execution_count": 117,
     "metadata": {},
     "output_type": "execute_result"
    }
   ],
   "source": [
    "graph_dataset[0].edge_attr.unsqueeze(-1).shape"
   ]
  },
  {
   "cell_type": "code",
   "execution_count": 109,
   "metadata": {},
   "outputs": [
    {
     "data": {
      "image/png": "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",
      "text/plain": [
       "<Figure size 640x480 with 1 Axes>"
      ]
     },
     "metadata": {},
     "output_type": "display_data"
    }
   ],
   "source": [
    "# person = splits['poses3d'][0][0][0]\n",
    "person = graph_dataset[4].x\n",
    "\n",
    "# plot person in 3d \n",
    "fig = plt.figure()\n",
    "ax = fig.add_subplot(111, projection='3d')\n",
    "ax.scatter(person[:,0], person[:,1], person[:,2])\n",
    "for edge in body_edges:\n",
    "    ax.plot([person[edge[0],0], person[edge[1],0]], [person[edge[0],1], person[edge[1],1]], [person[edge[0],2], person[edge[1],2]])\n",
    "ax.view_init(elev=0, azim=0)\n",
    "plt.show()\n"
   ]
  },
  {
   "cell_type": "code",
   "execution_count": 120,
   "metadata": {},
   "outputs": [
    {
     "name": "stdout",
     "output_type": "stream",
     "text": [
      "Class 80: 1232 occurrences\n",
      "Class 61: 6969 occurrences\n",
      "Class 32: 469 occurrences\n",
      "Class 67: 9 occurrences\n",
      "Class 1: 3581 occurrences\n",
      "Class 28: 2 occurrences\n",
      "Class 37: 19 occurrences\n",
      "Class 60: 20 occurrences\n",
      "Class 66: 4 occurrences\n",
      "Class 0: 32 occurrences\n",
      "Class 11: 21 occurrences\n",
      "Class 62: 93 occurrences\n",
      "Class 5: 11 occurrences\n",
      "Class 65: 669 occurrences\n",
      "Class 36: 26 occurrences\n",
      "Class 76: 5556 occurrences\n",
      "Class 10: 25 occurrences\n",
      "Class 30: 322 occurrences\n",
      "Class 13: 94 occurrences\n",
      "Class 34: 51 occurrences\n",
      "Class 8: 64 occurrences\n",
      "Class 69: 92 occurrences\n",
      "Class 2: 2776 occurrences\n",
      "Class 77: 30 occurrences\n",
      "Class 41: 57 occurrences\n",
      "Class 81: 23 occurrences\n",
      "Class 74: 292 occurrences\n",
      "Class 43: 7 occurrences\n",
      "Class 49: 5 occurrences\n",
      "Class 33: 6 occurrences\n",
      "Class 18: 1 occurrences\n",
      "Class 7: 127 occurrences\n",
      "Class 71: 105 occurrences\n",
      "Class 48: 20 occurrences\n",
      "Class 6: 1 occurrences\n",
      "Class 25: 88 occurrences\n",
      "Class 75: 4 occurrences\n",
      "Class 59: 73 occurrences\n",
      "Class 58: 8847 occurrences\n",
      "Class 16: 411 occurrences\n",
      "Class 56: 1170 occurrences\n",
      "Class 46: 6 occurrences\n",
      "Class 35: 28 occurrences\n",
      "Class 44: 197 occurrences\n",
      "Class 9: 23 occurrences\n",
      "Class 57: 3 occurrences\n",
      "Class 45: 2 occurrences\n",
      "Class 54: 51 occurrences\n",
      "Class 3: 280 occurrences\n",
      "Class 22: 69 occurrences\n",
      "Class 4: 892 occurrences\n",
      "Class 14: 230 occurrences\n",
      "Class 78: 374 occurrences\n",
      "Class 15: 247 occurrences\n",
      "Class 39: 55 occurrences\n",
      "Class 17: 22 occurrences\n",
      "Class 29: 850 occurrences\n",
      "Class 79: 415 occurrences\n",
      "Class 40: 56 occurrences\n",
      "Class 51: 4 occurrences\n",
      "Class 64: 131 occurrences\n",
      "Class 68: 4 occurrences\n",
      "Class 70: 61 occurrences\n",
      "Class 47: 10 occurrences\n",
      "Class 21: 5 occurrences\n",
      "Class 20: 46 occurrences\n",
      "Class 12: 4 occurrences\n",
      "Class 23: 27 occurrences\n",
      "Class 55: 12 occurrences\n",
      "Class 52: 1 occurrences\n",
      "Class 50: 7 occurrences\n",
      "Class 63: 4 occurrences\n"
     ]
    }
   ],
   "source": [
    "from collections import Counter\n",
    "import torch\n",
    "\n",
    "def calculate_class_distribution(hik_dataset):\n",
    "    \"\"\"\n",
    "    Calculate the distribution of activity labels in the HiK dataset.\n",
    "    Args:\n",
    "        hik_dataset (HiKDataset): The dataset to analyze.\n",
    "    Returns:\n",
    "        dict: A dictionary with activity labels as keys and counts as values.\n",
    "    \"\"\"\n",
    "    class_counts = Counter()\n",
    "\n",
    "    for idx in range(len(hik_dataset)):\n",
    "        data = hik_dataset[idx]\n",
    "        # Assuming the activity_label is a multi-hot tensor\n",
    "        labels = torch.where(data[\"activity_label\"] > 0)[0].tolist()\n",
    "        class_counts.update(labels)\n",
    "\n",
    "    return class_counts\n",
    "\n",
    "# Usage\n",
    "data_location = 'data'\n",
    "dataset = 'A'\n",
    "sample_length = 30\n",
    "step_size = 30\n",
    "# hik_dataset = HiKDataset(dataset, data_location, sample_length, step_size)\n",
    "class_distribution = calculate_class_distribution(hik_dataset)\n",
    "\n",
    "# Display the distribution\n",
    "for class_id, count in class_distribution.items():\n",
    "    print(f\"Class {class_id}: {count} occurrences\")\n"
   ]
  },
  {
   "cell_type": "code",
   "execution_count": 122,
   "metadata": {},
   "outputs": [
    {
     "data": {
      "text/plain": [
       "Counter({58: 8847,\n",
       "         61: 6969,\n",
       "         76: 5556,\n",
       "         1: 3581,\n",
       "         2: 2776,\n",
       "         80: 1232,\n",
       "         56: 1170,\n",
       "         4: 892,\n",
       "         29: 850,\n",
       "         65: 669,\n",
       "         32: 469,\n",
       "         79: 415,\n",
       "         16: 411,\n",
       "         78: 374,\n",
       "         30: 322,\n",
       "         74: 292,\n",
       "         3: 280,\n",
       "         15: 247,\n",
       "         14: 230,\n",
       "         44: 197,\n",
       "         64: 131,\n",
       "         7: 127,\n",
       "         71: 105,\n",
       "         13: 94,\n",
       "         62: 93,\n",
       "         69: 92,\n",
       "         25: 88,\n",
       "         59: 73,\n",
       "         22: 69,\n",
       "         8: 64,\n",
       "         70: 61,\n",
       "         41: 57,\n",
       "         40: 56,\n",
       "         39: 55,\n",
       "         34: 51,\n",
       "         54: 51,\n",
       "         20: 46,\n",
       "         0: 32,\n",
       "         77: 30,\n",
       "         35: 28,\n",
       "         23: 27,\n",
       "         36: 26,\n",
       "         10: 25,\n",
       "         81: 23,\n",
       "         9: 23,\n",
       "         17: 22,\n",
       "         11: 21,\n",
       "         60: 20,\n",
       "         48: 20,\n",
       "         37: 19,\n",
       "         55: 12,\n",
       "         5: 11,\n",
       "         47: 10,\n",
       "         67: 9,\n",
       "         43: 7,\n",
       "         50: 7,\n",
       "         33: 6,\n",
       "         46: 6,\n",
       "         49: 5,\n",
       "         21: 5,\n",
       "         66: 4,\n",
       "         75: 4,\n",
       "         51: 4,\n",
       "         68: 4,\n",
       "         12: 4,\n",
       "         63: 4,\n",
       "         57: 3,\n",
       "         28: 2,\n",
       "         45: 2,\n",
       "         18: 1,\n",
       "         6: 1,\n",
       "         52: 1})"
      ]
     },
     "execution_count": 122,
     "metadata": {},
     "output_type": "execute_result"
    }
   ],
   "source": [
    "class_distribution"
   ]
  },
  {
   "cell_type": "code",
   "execution_count": 3,
   "metadata": {},
   "outputs": [],
   "source": [
    "import torch"
   ]
  },
  {
   "cell_type": "code",
   "execution_count": 4,
   "metadata": {},
   "outputs": [
    {
     "data": {
      "text/plain": [
       "tensor([0., 0., 0., 0., 0., 0., 0., 0., 0., 0., 0., 0., 0., 0., 0., 0., 0., 0., 0., 0., 0., 0., 0., 0.,\n",
       "        0., 0., 0., 0., 0., 0., 0., 0., 0., 0., 0., 0., 0., 0., 0., 0., 0., 0., 0., 0., 0., 0., 0., 0.,\n",
       "        0., 0., 0., 0., 0., 0., 0., 0., 0., 0., 0., 0., 0., 0., 0., 0., 0., 0., 0., 0., 0., 0., 0., 0.,\n",
       "        0., 0., 0., 0., 0., 0., 0., 0., 0., 0.])"
      ]
     },
     "execution_count": 4,
     "metadata": {},
     "output_type": "execute_result"
    }
   ],
   "source": [
    "orig = torch.zeros(80)\n",
    "torch.cat((orig[:58], torch))"
   ]
  },
  {
   "cell_type": "code",
   "execution_count": null,
   "metadata": {},
   "outputs": [],
   "source": []
  },
  {
   "cell_type": "code",
   "execution_count": 18,
   "metadata": {},
   "outputs": [],
   "source": [
    "main = torch.zeros(128, 3)\n",
    "test = torch.tensor([2, 0, 1, 1])\n",
    "test_adjusted = torch.repeat_interleave(test, 32, dim=0).unsqueeze(0).T\n",
    "# concatenate the two tensors\n",
    "main = torch.cat((main, test_adjusted), dim=1)"
   ]
  },
  {
   "cell_type": "code",
   "execution_count": 20,
   "metadata": {},
   "outputs": [
    {
     "data": {
      "text/plain": [
       "tensor([[0., 0., 0., 2.],\n",
       "        [0., 0., 0., 2.],\n",
       "        [0., 0., 0., 2.],\n",
       "        [0., 0., 0., 2.],\n",
       "        [0., 0., 0., 2.],\n",
       "        [0., 0., 0., 2.],\n",
       "        [0., 0., 0., 2.],\n",
       "        [0., 0., 0., 2.],\n",
       "        [0., 0., 0., 2.],\n",
       "        [0., 0., 0., 2.],\n",
       "        [0., 0., 0., 2.],\n",
       "        [0., 0., 0., 2.],\n",
       "        [0., 0., 0., 2.],\n",
       "        [0., 0., 0., 2.],\n",
       "        [0., 0., 0., 2.],\n",
       "        [0., 0., 0., 2.],\n",
       "        [0., 0., 0., 2.],\n",
       "        [0., 0., 0., 2.],\n",
       "        [0., 0., 0., 2.],\n",
       "        [0., 0., 0., 2.],\n",
       "        [0., 0., 0., 2.],\n",
       "        [0., 0., 0., 2.],\n",
       "        [0., 0., 0., 2.],\n",
       "        [0., 0., 0., 2.],\n",
       "        [0., 0., 0., 2.],\n",
       "        [0., 0., 0., 2.],\n",
       "        [0., 0., 0., 2.],\n",
       "        [0., 0., 0., 2.],\n",
       "        [0., 0., 0., 2.],\n",
       "        [0., 0., 0., 2.],\n",
       "        [0., 0., 0., 2.],\n",
       "        [0., 0., 0., 2.],\n",
       "        [0., 0., 0., 0.],\n",
       "        [0., 0., 0., 0.],\n",
       "        [0., 0., 0., 0.],\n",
       "        [0., 0., 0., 0.],\n",
       "        [0., 0., 0., 0.],\n",
       "        [0., 0., 0., 0.],\n",
       "        [0., 0., 0., 0.],\n",
       "        [0., 0., 0., 0.],\n",
       "        [0., 0., 0., 0.],\n",
       "        [0., 0., 0., 0.],\n",
       "        [0., 0., 0., 0.],\n",
       "        [0., 0., 0., 0.],\n",
       "        [0., 0., 0., 0.],\n",
       "        [0., 0., 0., 0.],\n",
       "        [0., 0., 0., 0.],\n",
       "        [0., 0., 0., 0.],\n",
       "        [0., 0., 0., 0.],\n",
       "        [0., 0., 0., 0.],\n",
       "        [0., 0., 0., 0.],\n",
       "        [0., 0., 0., 0.],\n",
       "        [0., 0., 0., 0.],\n",
       "        [0., 0., 0., 0.],\n",
       "        [0., 0., 0., 0.],\n",
       "        [0., 0., 0., 0.],\n",
       "        [0., 0., 0., 0.],\n",
       "        [0., 0., 0., 0.],\n",
       "        [0., 0., 0., 0.],\n",
       "        [0., 0., 0., 0.],\n",
       "        [0., 0., 0., 0.],\n",
       "        [0., 0., 0., 0.],\n",
       "        [0., 0., 0., 0.],\n",
       "        [0., 0., 0., 0.],\n",
       "        [0., 0., 0., 1.],\n",
       "        [0., 0., 0., 1.],\n",
       "        [0., 0., 0., 1.],\n",
       "        [0., 0., 0., 1.],\n",
       "        [0., 0., 0., 1.],\n",
       "        [0., 0., 0., 1.],\n",
       "        [0., 0., 0., 1.],\n",
       "        [0., 0., 0., 1.],\n",
       "        [0., 0., 0., 1.],\n",
       "        [0., 0., 0., 1.],\n",
       "        [0., 0., 0., 1.],\n",
       "        [0., 0., 0., 1.],\n",
       "        [0., 0., 0., 1.],\n",
       "        [0., 0., 0., 1.],\n",
       "        [0., 0., 0., 1.],\n",
       "        [0., 0., 0., 1.],\n",
       "        [0., 0., 0., 1.],\n",
       "        [0., 0., 0., 1.],\n",
       "        [0., 0., 0., 1.],\n",
       "        [0., 0., 0., 1.],\n",
       "        [0., 0., 0., 1.],\n",
       "        [0., 0., 0., 1.],\n",
       "        [0., 0., 0., 1.],\n",
       "        [0., 0., 0., 1.],\n",
       "        [0., 0., 0., 1.],\n",
       "        [0., 0., 0., 1.],\n",
       "        [0., 0., 0., 1.],\n",
       "        [0., 0., 0., 1.],\n",
       "        [0., 0., 0., 1.],\n",
       "        [0., 0., 0., 1.],\n",
       "        [0., 0., 0., 1.],\n",
       "        [0., 0., 0., 1.],\n",
       "        [0., 0., 0., 1.],\n",
       "        [0., 0., 0., 1.],\n",
       "        [0., 0., 0., 1.],\n",
       "        [0., 0., 0., 1.],\n",
       "        [0., 0., 0., 1.],\n",
       "        [0., 0., 0., 1.],\n",
       "        [0., 0., 0., 1.],\n",
       "        [0., 0., 0., 1.],\n",
       "        [0., 0., 0., 1.],\n",
       "        [0., 0., 0., 1.],\n",
       "        [0., 0., 0., 1.],\n",
       "        [0., 0., 0., 1.],\n",
       "        [0., 0., 0., 1.],\n",
       "        [0., 0., 0., 1.],\n",
       "        [0., 0., 0., 1.],\n",
       "        [0., 0., 0., 1.],\n",
       "        [0., 0., 0., 1.],\n",
       "        [0., 0., 0., 1.],\n",
       "        [0., 0., 0., 1.],\n",
       "        [0., 0., 0., 1.],\n",
       "        [0., 0., 0., 1.],\n",
       "        [0., 0., 0., 1.],\n",
       "        [0., 0., 0., 1.],\n",
       "        [0., 0., 0., 1.],\n",
       "        [0., 0., 0., 1.],\n",
       "        [0., 0., 0., 1.],\n",
       "        [0., 0., 0., 1.],\n",
       "        [0., 0., 0., 1.],\n",
       "        [0., 0., 0., 1.],\n",
       "        [0., 0., 0., 1.],\n",
       "        [0., 0., 0., 1.],\n",
       "        [0., 0., 0., 1.]])"
      ]
     },
     "execution_count": 20,
     "metadata": {},
     "output_type": "execute_result"
    }
   ],
   "source": [
    "main"
   ]
  }
 ],
 "metadata": {
  "kernelspec": {
   "display_name": "base",
   "language": "python",
   "name": "python3"
  },
  "language_info": {
   "codemirror_mode": {
    "name": "ipython",
    "version": 3
   },
   "file_extension": ".py",
   "mimetype": "text/x-python",
   "name": "python",
   "nbconvert_exporter": "python",
   "pygments_lexer": "ipython3",
   "version": "3.12.4"
  }
 },
 "nbformat": 4,
 "nbformat_minor": 2
}
